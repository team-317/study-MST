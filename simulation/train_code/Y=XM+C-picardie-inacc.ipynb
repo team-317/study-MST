{
 "cells": [
  {
   "cell_type": "code",
   "execution_count": 1,
   "metadata": {},
   "outputs": [
    {
     "name": "stdout",
     "output_type": "stream",
     "text": [
      "\tThe 001th iters, the 040th epoch, loss: 579114.25622\n",
      "\tThe 001th iters, the 080th epoch, loss: 578907.67101\n",
      "\tThe 001th iters, the 120th epoch, loss: 578862.84496\n",
      "\tThe 001th iters, the 160th epoch, loss: 578838.11577\n",
      "\tThe 001th iters, the 200th epoch, loss: 578821.92171\n",
      "\tThe 001th iters, the 240th epoch, loss: 578810.23776\n",
      "\tThe 001th iters, the 280th epoch, loss: 578801.38513\n",
      "s:  tensor([941.3847, 630.8392, 472.9757, 111.1894,  30.0804,  12.1586,   8.0623,\n",
      "          7.8956,   7.0650,   6.8323,   5.6556,   4.6011,   3.8349,   3.2650,\n",
      "          3.1383,   2.8897,   2.6637,   2.4674,   2.3870,   2.3327,   2.2411,\n",
      "          2.2126,   2.1094,   1.9968,   1.9501,   1.8703,   1.8102,   1.7287,\n",
      "          1.7012,   1.6673,   1.6337,   1.5699,   1.5231,   1.4751,   1.3667,\n",
      "          1.3186], device='cuda:0')\n"
     ]
    },
    {
     "name": "stderr",
     "output_type": "stream",
     "text": [
      "d:\\development\\anaconda\\envs\\deep-todo\\lib\\site-packages\\skimage\\_shared\\utils.py:348: UserWarning: Inputs have mismatched dtype.  Setting data_range based on im1.dtype.\n",
      "  return func(*args, **kwargs)\n",
      "Clipping input data to the valid range for imshow with RGB data ([0..1] for floats or [0..255] for integers).\n",
      "Clipping input data to the valid range for imshow with RGB data ([0..1] for floats or [0..255] for integers).\n",
      "Clipping input data to the valid range for imshow with RGB data ([0..1] for floats or [0..255] for integers).\n",
      "Clipping input data to the valid range for imshow with RGB data ([0..1] for floats or [0..255] for integers).\n",
      "Clipping input data to the valid range for imshow with RGB data ([0..1] for floats or [0..255] for integers).\n",
      "Clipping input data to the valid range for imshow with RGB data ([0..1] for floats or [0..255] for integers).\n",
      "Clipping input data to the valid range for imshow with RGB data ([0..1] for floats or [0..255] for integers).\n",
      "Clipping input data to the valid range for imshow with RGB data ([0..1] for floats or [0..255] for integers).\n",
      "Clipping input data to the valid range for imshow with RGB data ([0..1] for floats or [0..255] for integers).\n",
      "Clipping input data to the valid range for imshow with RGB data ([0..1] for floats or [0..255] for integers).\n",
      "Clipping input data to the valid range for imshow with RGB data ([0..1] for floats or [0..255] for integers).\n",
      "Clipping input data to the valid range for imshow with RGB data ([0..1] for floats or [0..255] for integers).\n",
      "Clipping input data to the valid range for imshow with RGB data ([0..1] for floats or [0..255] for integers).\n",
      "Clipping input data to the valid range for imshow with RGB data ([0..1] for floats or [0..255] for integers).\n",
      "Clipping input data to the valid range for imshow with RGB data ([0..1] for floats or [0..255] for integers).\n",
      "Clipping input data to the valid range for imshow with RGB data ([0..1] for floats or [0..255] for integers).\n",
      "Clipping input data to the valid range for imshow with RGB data ([0..1] for floats or [0..255] for integers).\n",
      "Clipping input data to the valid range for imshow with RGB data ([0..1] for floats or [0..255] for integers).\n",
      "Clipping input data to the valid range for imshow with RGB data ([0..1] for floats or [0..255] for integers).\n",
      "Clipping input data to the valid range for imshow with RGB data ([0..1] for floats or [0..255] for integers).\n",
      "Clipping input data to the valid range for imshow with RGB data ([0..1] for floats or [0..255] for integers).\n",
      "Clipping input data to the valid range for imshow with RGB data ([0..1] for floats or [0..255] for integers).\n",
      "Clipping input data to the valid range for imshow with RGB data ([0..1] for floats or [0..255] for integers).\n",
      "Clipping input data to the valid range for imshow with RGB data ([0..1] for floats or [0..255] for integers).\n"
     ]
    },
    {
     "name": "stdout",
     "output_type": "stream",
     "text": [
      "\tThe 002th iters, the 040th epoch, loss: 2136.45024\n",
      "\tThe 002th iters, the 080th epoch, loss: 1968.03405\n",
      "\tThe 002th iters, the 120th epoch, loss: 1877.59669\n",
      "\tThe 002th iters, the 160th epoch, loss: 1820.71346\n",
      "\tThe 002th iters, the 200th epoch, loss: 1783.65917\n",
      "\tThe 002th iters, the 240th epoch, loss: 1759.36641\n",
      "\tThe 002th iters, the 280th epoch, loss: 1728.70807\n",
      "s:  tensor([866.7880, 569.7719, 437.6391, 103.9275,  29.7354,  12.1348,   8.0048,\n",
      "          7.8371,   7.1036,   6.8867,   5.7584,   4.7052,   3.9263,   3.6277,\n",
      "          3.4213,   3.3512,   3.1657,   2.9890,   2.9679,   2.8173,   2.6672,\n",
      "          2.6172,   2.5124,   2.4218,   2.3682,   2.3436,   2.2161,   2.1602,\n",
      "          2.1207,   2.0760,   2.0377,   1.9924,   1.9582,   1.7844,   1.7588,\n",
      "          1.6934], device='cuda:0')\n"
     ]
    },
    {
     "name": "stderr",
     "output_type": "stream",
     "text": [
      "Clipping input data to the valid range for imshow with RGB data ([0..1] for floats or [0..255] for integers).\n",
      "Clipping input data to the valid range for imshow with RGB data ([0..1] for floats or [0..255] for integers).\n",
      "Clipping input data to the valid range for imshow with RGB data ([0..1] for floats or [0..255] for integers).\n",
      "Clipping input data to the valid range for imshow with RGB data ([0..1] for floats or [0..255] for integers).\n",
      "Clipping input data to the valid range for imshow with RGB data ([0..1] for floats or [0..255] for integers).\n",
      "Clipping input data to the valid range for imshow with RGB data ([0..1] for floats or [0..255] for integers).\n",
      "Clipping input data to the valid range for imshow with RGB data ([0..1] for floats or [0..255] for integers).\n",
      "Clipping input data to the valid range for imshow with RGB data ([0..1] for floats or [0..255] for integers).\n",
      "Clipping input data to the valid range for imshow with RGB data ([0..1] for floats or [0..255] for integers).\n",
      "Clipping input data to the valid range for imshow with RGB data ([0..1] for floats or [0..255] for integers).\n",
      "Clipping input data to the valid range for imshow with RGB data ([0..1] for floats or [0..255] for integers).\n",
      "Clipping input data to the valid range for imshow with RGB data ([0..1] for floats or [0..255] for integers).\n",
      "Clipping input data to the valid range for imshow with RGB data ([0..1] for floats or [0..255] for integers).\n",
      "Clipping input data to the valid range for imshow with RGB data ([0..1] for floats or [0..255] for integers).\n",
      "Clipping input data to the valid range for imshow with RGB data ([0..1] for floats or [0..255] for integers).\n",
      "Clipping input data to the valid range for imshow with RGB data ([0..1] for floats or [0..255] for integers).\n",
      "Clipping input data to the valid range for imshow with RGB data ([0..1] for floats or [0..255] for integers).\n",
      "Clipping input data to the valid range for imshow with RGB data ([0..1] for floats or [0..255] for integers).\n",
      "Clipping input data to the valid range for imshow with RGB data ([0..1] for floats or [0..255] for integers).\n",
      "Clipping input data to the valid range for imshow with RGB data ([0..1] for floats or [0..255] for integers).\n",
      "Clipping input data to the valid range for imshow with RGB data ([0..1] for floats or [0..255] for integers).\n",
      "Clipping input data to the valid range for imshow with RGB data ([0..1] for floats or [0..255] for integers).\n",
      "Clipping input data to the valid range for imshow with RGB data ([0..1] for floats or [0..255] for integers).\n",
      "Clipping input data to the valid range for imshow with RGB data ([0..1] for floats or [0..255] for integers).\n"
     ]
    },
    {
     "name": "stdout",
     "output_type": "stream",
     "text": [
      "\tThe 003th iters, the 040th epoch, loss: 100341.27839\n",
      "\tThe 003th iters, the 080th epoch, loss: 100281.51585\n",
      "\tThe 003th iters, the 120th epoch, loss: 100253.43556\n",
      "\tThe 003th iters, the 160th epoch, loss: 100237.79560\n",
      "\tThe 003th iters, the 200th epoch, loss: 100219.74418\n",
      "\tThe 003th iters, the 240th epoch, loss: 100210.90739\n",
      "\tThe 003th iters, the 280th epoch, loss: 100199.67297\n",
      "s:  tensor([790.0441, 498.6527, 381.7719, 102.1763,  29.1891,  12.0216,   7.8895,\n",
      "          7.7269,   7.1501,   6.9471,   5.7977,   5.0378,   4.1388,   4.0242,\n",
      "          3.9544,   3.6913,   3.6125,   3.5144,   3.3216,   3.1795,   3.1228,\n",
      "          2.9395,   2.9312,   2.8175,   2.7647,   2.7276,   2.5677,   2.4437,\n",
      "          2.4162,   2.3324,   2.2615,   2.2537,   2.2159,   2.0585,   2.0225,\n",
      "          1.9802], device='cuda:0')\n"
     ]
    },
    {
     "name": "stderr",
     "output_type": "stream",
     "text": [
      "Clipping input data to the valid range for imshow with RGB data ([0..1] for floats or [0..255] for integers).\n",
      "Clipping input data to the valid range for imshow with RGB data ([0..1] for floats or [0..255] for integers).\n",
      "Clipping input data to the valid range for imshow with RGB data ([0..1] for floats or [0..255] for integers).\n",
      "Clipping input data to the valid range for imshow with RGB data ([0..1] for floats or [0..255] for integers).\n",
      "Clipping input data to the valid range for imshow with RGB data ([0..1] for floats or [0..255] for integers).\n",
      "Clipping input data to the valid range for imshow with RGB data ([0..1] for floats or [0..255] for integers).\n",
      "Clipping input data to the valid range for imshow with RGB data ([0..1] for floats or [0..255] for integers).\n",
      "Clipping input data to the valid range for imshow with RGB data ([0..1] for floats or [0..255] for integers).\n",
      "Clipping input data to the valid range for imshow with RGB data ([0..1] for floats or [0..255] for integers).\n",
      "Clipping input data to the valid range for imshow with RGB data ([0..1] for floats or [0..255] for integers).\n",
      "Clipping input data to the valid range for imshow with RGB data ([0..1] for floats or [0..255] for integers).\n",
      "Clipping input data to the valid range for imshow with RGB data ([0..1] for floats or [0..255] for integers).\n",
      "Clipping input data to the valid range for imshow with RGB data ([0..1] for floats or [0..255] for integers).\n",
      "Clipping input data to the valid range for imshow with RGB data ([0..1] for floats or [0..255] for integers).\n",
      "Clipping input data to the valid range for imshow with RGB data ([0..1] for floats or [0..255] for integers).\n",
      "Clipping input data to the valid range for imshow with RGB data ([0..1] for floats or [0..255] for integers).\n",
      "Clipping input data to the valid range for imshow with RGB data ([0..1] for floats or [0..255] for integers).\n",
      "Clipping input data to the valid range for imshow with RGB data ([0..1] for floats or [0..255] for integers).\n",
      "Clipping input data to the valid range for imshow with RGB data ([0..1] for floats or [0..255] for integers).\n",
      "Clipping input data to the valid range for imshow with RGB data ([0..1] for floats or [0..255] for integers).\n",
      "Clipping input data to the valid range for imshow with RGB data ([0..1] for floats or [0..255] for integers).\n",
      "Clipping input data to the valid range for imshow with RGB data ([0..1] for floats or [0..255] for integers).\n",
      "Clipping input data to the valid range for imshow with RGB data ([0..1] for floats or [0..255] for integers).\n",
      "Clipping input data to the valid range for imshow with RGB data ([0..1] for floats or [0..255] for integers).\n"
     ]
    },
    {
     "name": "stdout",
     "output_type": "stream",
     "text": [
      "\tThe 004th iters, the 040th epoch, loss: 47647.43286\n",
      "\tThe 004th iters, the 080th epoch, loss: 47621.11665\n",
      "\tThe 004th iters, the 120th epoch, loss: 47595.13922\n",
      "\tThe 004th iters, the 160th epoch, loss: 47570.35230\n",
      "\tThe 004th iters, the 200th epoch, loss: 47564.19567\n",
      "\tThe 004th iters, the 240th epoch, loss: 47550.33133\n",
      "\tThe 004th iters, the 280th epoch, loss: 47545.79375\n",
      "s:  tensor([711.7138, 426.6398, 319.7300, 100.4865,  28.7396,  11.9394,   7.8717,\n",
      "          7.7075,   7.2838,   7.0136,   5.9674,   5.2558,   4.5530,   4.3989,\n",
      "          4.2544,   4.1525,   3.9794,   3.9028,   3.7278,   3.5843,   3.4302,\n",
      "          3.3145,   3.2329,   3.2011,   3.1119,   3.0254,   2.8466,   2.7449,\n",
      "          2.6865,   2.5744,   2.4841,   2.4494,   2.3881,   2.2841,   2.2476,\n",
      "          2.2163], device='cuda:0')\n"
     ]
    },
    {
     "name": "stderr",
     "output_type": "stream",
     "text": [
      "Clipping input data to the valid range for imshow with RGB data ([0..1] for floats or [0..255] for integers).\n",
      "Clipping input data to the valid range for imshow with RGB data ([0..1] for floats or [0..255] for integers).\n",
      "Clipping input data to the valid range for imshow with RGB data ([0..1] for floats or [0..255] for integers).\n",
      "Clipping input data to the valid range for imshow with RGB data ([0..1] for floats or [0..255] for integers).\n",
      "Clipping input data to the valid range for imshow with RGB data ([0..1] for floats or [0..255] for integers).\n",
      "Clipping input data to the valid range for imshow with RGB data ([0..1] for floats or [0..255] for integers).\n",
      "Clipping input data to the valid range for imshow with RGB data ([0..1] for floats or [0..255] for integers).\n",
      "Clipping input data to the valid range for imshow with RGB data ([0..1] for floats or [0..255] for integers).\n",
      "Clipping input data to the valid range for imshow with RGB data ([0..1] for floats or [0..255] for integers).\n",
      "Clipping input data to the valid range for imshow with RGB data ([0..1] for floats or [0..255] for integers).\n",
      "Clipping input data to the valid range for imshow with RGB data ([0..1] for floats or [0..255] for integers).\n",
      "Clipping input data to the valid range for imshow with RGB data ([0..1] for floats or [0..255] for integers).\n",
      "Clipping input data to the valid range for imshow with RGB data ([0..1] for floats or [0..255] for integers).\n",
      "Clipping input data to the valid range for imshow with RGB data ([0..1] for floats or [0..255] for integers).\n",
      "Clipping input data to the valid range for imshow with RGB data ([0..1] for floats or [0..255] for integers).\n",
      "Clipping input data to the valid range for imshow with RGB data ([0..1] for floats or [0..255] for integers).\n",
      "Clipping input data to the valid range for imshow with RGB data ([0..1] for floats or [0..255] for integers).\n",
      "Clipping input data to the valid range for imshow with RGB data ([0..1] for floats or [0..255] for integers).\n",
      "Clipping input data to the valid range for imshow with RGB data ([0..1] for floats or [0..255] for integers).\n",
      "Clipping input data to the valid range for imshow with RGB data ([0..1] for floats or [0..255] for integers).\n",
      "Clipping input data to the valid range for imshow with RGB data ([0..1] for floats or [0..255] for integers).\n",
      "Clipping input data to the valid range for imshow with RGB data ([0..1] for floats or [0..255] for integers).\n",
      "Clipping input data to the valid range for imshow with RGB data ([0..1] for floats or [0..255] for integers).\n",
      "Clipping input data to the valid range for imshow with RGB data ([0..1] for floats or [0..255] for integers).\n"
     ]
    },
    {
     "name": "stdout",
     "output_type": "stream",
     "text": [
      "\tThe 005th iters, the 040th epoch, loss: 14646.23876\n",
      "\tThe 005th iters, the 080th epoch, loss: 14622.23278\n",
      "\tThe 005th iters, the 120th epoch, loss: 14611.00150\n",
      "\tThe 005th iters, the 160th epoch, loss: 14605.86429\n",
      "\tThe 005th iters, the 200th epoch, loss: 14602.11052\n",
      "\tThe 005th iters, the 240th epoch, loss: 14598.26516\n",
      "\tThe 005th iters, the 280th epoch, loss: 14594.86995\n",
      "s:  tensor([626.7670, 354.9925, 255.4639,  98.5701,  28.3731,  11.8839,   7.8975,\n",
      "          7.7313,   7.3654,   7.1261,   6.0986,   5.4666,   4.8581,   4.6952,\n",
      "          4.4881,   4.3981,   4.2541,   4.1148,   3.9732,   3.8095,   3.6799,\n",
      "          3.5669,   3.4341,   3.3841,   3.2782,   3.2340,   3.0249,   2.9249,\n",
      "          2.8296,   2.7403,   2.6266,   2.5824,   2.4875,   2.4488,   2.4151,\n",
      "          2.3353], device='cuda:0')\n"
     ]
    },
    {
     "name": "stderr",
     "output_type": "stream",
     "text": [
      "Clipping input data to the valid range for imshow with RGB data ([0..1] for floats or [0..255] for integers).\n",
      "Clipping input data to the valid range for imshow with RGB data ([0..1] for floats or [0..255] for integers).\n",
      "Clipping input data to the valid range for imshow with RGB data ([0..1] for floats or [0..255] for integers).\n",
      "Clipping input data to the valid range for imshow with RGB data ([0..1] for floats or [0..255] for integers).\n",
      "Clipping input data to the valid range for imshow with RGB data ([0..1] for floats or [0..255] for integers).\n",
      "Clipping input data to the valid range for imshow with RGB data ([0..1] for floats or [0..255] for integers).\n",
      "Clipping input data to the valid range for imshow with RGB data ([0..1] for floats or [0..255] for integers).\n",
      "Clipping input data to the valid range for imshow with RGB data ([0..1] for floats or [0..255] for integers).\n",
      "Clipping input data to the valid range for imshow with RGB data ([0..1] for floats or [0..255] for integers).\n",
      "Clipping input data to the valid range for imshow with RGB data ([0..1] for floats or [0..255] for integers).\n",
      "Clipping input data to the valid range for imshow with RGB data ([0..1] for floats or [0..255] for integers).\n",
      "Clipping input data to the valid range for imshow with RGB data ([0..1] for floats or [0..255] for integers).\n",
      "Clipping input data to the valid range for imshow with RGB data ([0..1] for floats or [0..255] for integers).\n",
      "Clipping input data to the valid range for imshow with RGB data ([0..1] for floats or [0..255] for integers).\n",
      "Clipping input data to the valid range for imshow with RGB data ([0..1] for floats or [0..255] for integers).\n",
      "Clipping input data to the valid range for imshow with RGB data ([0..1] for floats or [0..255] for integers).\n",
      "Clipping input data to the valid range for imshow with RGB data ([0..1] for floats or [0..255] for integers).\n",
      "Clipping input data to the valid range for imshow with RGB data ([0..1] for floats or [0..255] for integers).\n",
      "Clipping input data to the valid range for imshow with RGB data ([0..1] for floats or [0..255] for integers).\n",
      "Clipping input data to the valid range for imshow with RGB data ([0..1] for floats or [0..255] for integers).\n",
      "Clipping input data to the valid range for imshow with RGB data ([0..1] for floats or [0..255] for integers).\n",
      "Clipping input data to the valid range for imshow with RGB data ([0..1] for floats or [0..255] for integers).\n",
      "Clipping input data to the valid range for imshow with RGB data ([0..1] for floats or [0..255] for integers).\n",
      "Clipping input data to the valid range for imshow with RGB data ([0..1] for floats or [0..255] for integers).\n"
     ]
    },
    {
     "name": "stdout",
     "output_type": "stream",
     "text": [
      "\tThe 006th iters, the 040th epoch, loss: 3086.54521\n",
      "\tThe 006th iters, the 080th epoch, loss: 3067.63920\n",
      "\tThe 006th iters, the 120th epoch, loss: 3063.85154\n",
      "\tThe 006th iters, the 160th epoch, loss: 3061.03182\n",
      "\tThe 006th iters, the 200th epoch, loss: 3058.46223\n",
      "\tThe 006th iters, the 240th epoch, loss: 3055.99828\n",
      "\tThe 006th iters, the 280th epoch, loss: 3053.57720\n",
      "s:  tensor([544.2919, 285.5117, 194.8169,  95.9715,  27.9768,  11.8480,   7.9380,\n",
      "          7.8586,   7.4495,   7.2379,   6.1820,   5.6721,   5.0764,   4.9584,\n",
      "          4.7584,   4.6626,   4.4777,   4.2553,   4.2002,   4.0943,   3.8839,\n",
      "          3.8077,   3.6636,   3.5388,   3.4533,   3.3932,   3.2061,   3.0603,\n",
      "          2.9541,   2.8441,   2.7459,   2.6907,   2.6455,   2.5561,   2.5239,\n",
      "          2.4253], device='cuda:0')\n"
     ]
    },
    {
     "name": "stderr",
     "output_type": "stream",
     "text": [
      "Clipping input data to the valid range for imshow with RGB data ([0..1] for floats or [0..255] for integers).\n",
      "Clipping input data to the valid range for imshow with RGB data ([0..1] for floats or [0..255] for integers).\n",
      "Clipping input data to the valid range for imshow with RGB data ([0..1] for floats or [0..255] for integers).\n",
      "Clipping input data to the valid range for imshow with RGB data ([0..1] for floats or [0..255] for integers).\n",
      "Clipping input data to the valid range for imshow with RGB data ([0..1] for floats or [0..255] for integers).\n",
      "Clipping input data to the valid range for imshow with RGB data ([0..1] for floats or [0..255] for integers).\n",
      "Clipping input data to the valid range for imshow with RGB data ([0..1] for floats or [0..255] for integers).\n",
      "Clipping input data to the valid range for imshow with RGB data ([0..1] for floats or [0..255] for integers).\n",
      "Clipping input data to the valid range for imshow with RGB data ([0..1] for floats or [0..255] for integers).\n",
      "Clipping input data to the valid range for imshow with RGB data ([0..1] for floats or [0..255] for integers).\n",
      "Clipping input data to the valid range for imshow with RGB data ([0..1] for floats or [0..255] for integers).\n",
      "Clipping input data to the valid range for imshow with RGB data ([0..1] for floats or [0..255] for integers).\n",
      "Clipping input data to the valid range for imshow with RGB data ([0..1] for floats or [0..255] for integers).\n",
      "Clipping input data to the valid range for imshow with RGB data ([0..1] for floats or [0..255] for integers).\n",
      "Clipping input data to the valid range for imshow with RGB data ([0..1] for floats or [0..255] for integers).\n",
      "Clipping input data to the valid range for imshow with RGB data ([0..1] for floats or [0..255] for integers).\n",
      "Clipping input data to the valid range for imshow with RGB data ([0..1] for floats or [0..255] for integers).\n",
      "Clipping input data to the valid range for imshow with RGB data ([0..1] for floats or [0..255] for integers).\n",
      "Clipping input data to the valid range for imshow with RGB data ([0..1] for floats or [0..255] for integers).\n",
      "Clipping input data to the valid range for imshow with RGB data ([0..1] for floats or [0..255] for integers).\n",
      "Clipping input data to the valid range for imshow with RGB data ([0..1] for floats or [0..255] for integers).\n",
      "Clipping input data to the valid range for imshow with RGB data ([0..1] for floats or [0..255] for integers).\n",
      "Clipping input data to the valid range for imshow with RGB data ([0..1] for floats or [0..255] for integers).\n",
      "Clipping input data to the valid range for imshow with RGB data ([0..1] for floats or [0..255] for integers).\n"
     ]
    },
    {
     "name": "stdout",
     "output_type": "stream",
     "text": [
      "\tThe 007th iters, the 040th epoch, loss: 1710.60907\n",
      "\tThe 007th iters, the 080th epoch, loss: 1699.37160\n",
      "\tThe 007th iters, the 120th epoch, loss: 1690.81549\n",
      "\tThe 007th iters, the 160th epoch, loss: 1682.11733\n",
      "\tThe 007th iters, the 200th epoch, loss: 1669.02540\n",
      "\tThe 007th iters, the 240th epoch, loss: 1657.43099\n",
      "\tThe 007th iters, the 280th epoch, loss: 1650.18521\n",
      "s:  tensor([465.3592, 218.9464, 138.7751,  92.3544,  27.5728,  11.8030,   8.0910,\n",
      "          7.9432,   7.5104,   7.3042,   6.2298,   5.8283,   5.2857,   5.0944,\n",
      "          4.8692,   4.8224,   4.6226,   4.5443,   4.3406,   4.2744,   4.0376,\n",
      "          3.9241,   3.7881,   3.6110,   3.5643,   3.4935,   3.3064,   3.1208,\n",
      "          3.0020,   2.8798,   2.8117,   2.7529,   2.7203,   2.6386,   2.5599,\n",
      "          2.4716], device='cuda:0')\n"
     ]
    },
    {
     "name": "stderr",
     "output_type": "stream",
     "text": [
      "Clipping input data to the valid range for imshow with RGB data ([0..1] for floats or [0..255] for integers).\n",
      "Clipping input data to the valid range for imshow with RGB data ([0..1] for floats or [0..255] for integers).\n",
      "Clipping input data to the valid range for imshow with RGB data ([0..1] for floats or [0..255] for integers).\n",
      "Clipping input data to the valid range for imshow with RGB data ([0..1] for floats or [0..255] for integers).\n",
      "Clipping input data to the valid range for imshow with RGB data ([0..1] for floats or [0..255] for integers).\n",
      "Clipping input data to the valid range for imshow with RGB data ([0..1] for floats or [0..255] for integers).\n",
      "Clipping input data to the valid range for imshow with RGB data ([0..1] for floats or [0..255] for integers).\n",
      "Clipping input data to the valid range for imshow with RGB data ([0..1] for floats or [0..255] for integers).\n",
      "Clipping input data to the valid range for imshow with RGB data ([0..1] for floats or [0..255] for integers).\n",
      "Clipping input data to the valid range for imshow with RGB data ([0..1] for floats or [0..255] for integers).\n",
      "Clipping input data to the valid range for imshow with RGB data ([0..1] for floats or [0..255] for integers).\n",
      "Clipping input data to the valid range for imshow with RGB data ([0..1] for floats or [0..255] for integers).\n",
      "Clipping input data to the valid range for imshow with RGB data ([0..1] for floats or [0..255] for integers).\n",
      "Clipping input data to the valid range for imshow with RGB data ([0..1] for floats or [0..255] for integers).\n",
      "Clipping input data to the valid range for imshow with RGB data ([0..1] for floats or [0..255] for integers).\n",
      "Clipping input data to the valid range for imshow with RGB data ([0..1] for floats or [0..255] for integers).\n",
      "Clipping input data to the valid range for imshow with RGB data ([0..1] for floats or [0..255] for integers).\n",
      "Clipping input data to the valid range for imshow with RGB data ([0..1] for floats or [0..255] for integers).\n",
      "Clipping input data to the valid range for imshow with RGB data ([0..1] for floats or [0..255] for integers).\n",
      "Clipping input data to the valid range for imshow with RGB data ([0..1] for floats or [0..255] for integers).\n",
      "Clipping input data to the valid range for imshow with RGB data ([0..1] for floats or [0..255] for integers).\n",
      "Clipping input data to the valid range for imshow with RGB data ([0..1] for floats or [0..255] for integers).\n",
      "Clipping input data to the valid range for imshow with RGB data ([0..1] for floats or [0..255] for integers).\n",
      "Clipping input data to the valid range for imshow with RGB data ([0..1] for floats or [0..255] for integers).\n"
     ]
    },
    {
     "name": "stdout",
     "output_type": "stream",
     "text": [
      "\tThe 008th iters, the 040th epoch, loss: 1655.25650\n",
      "\tThe 008th iters, the 080th epoch, loss: 1640.73935\n",
      "\tThe 008th iters, the 120th epoch, loss: 1633.35285\n",
      "\tThe 008th iters, the 160th epoch, loss: 1626.84422\n",
      "\tThe 008th iters, the 200th epoch, loss: 1621.20269\n",
      "\tThe 008th iters, the 240th epoch, loss: 1616.02547\n",
      "\tThe 008th iters, the 280th epoch, loss: 1612.03482\n",
      "s:  tensor([390.8118, 156.2333,  90.8303,  85.5449,  27.2525,  11.7659,   8.2381,\n",
      "          8.0701,   7.6029,   7.3355,   6.3434,   5.8814,   5.5322,   5.2163,\n",
      "          5.0468,   4.8792,   4.8595,   4.7402,   4.5256,   4.4332,   4.1712,\n",
      "          4.0267,   3.9869,   3.7174,   3.6469,   3.5702,   3.3848,   3.1429,\n",
      "          3.0564,   2.9480,   2.8822,   2.7974,   2.7665,   2.6776,   2.5953,\n",
      "          2.5047], device='cuda:0')\n"
     ]
    },
    {
     "name": "stderr",
     "output_type": "stream",
     "text": [
      "Clipping input data to the valid range for imshow with RGB data ([0..1] for floats or [0..255] for integers).\n",
      "Clipping input data to the valid range for imshow with RGB data ([0..1] for floats or [0..255] for integers).\n",
      "Clipping input data to the valid range for imshow with RGB data ([0..1] for floats or [0..255] for integers).\n",
      "Clipping input data to the valid range for imshow with RGB data ([0..1] for floats or [0..255] for integers).\n",
      "Clipping input data to the valid range for imshow with RGB data ([0..1] for floats or [0..255] for integers).\n",
      "Clipping input data to the valid range for imshow with RGB data ([0..1] for floats or [0..255] for integers).\n",
      "Clipping input data to the valid range for imshow with RGB data ([0..1] for floats or [0..255] for integers).\n",
      "Clipping input data to the valid range for imshow with RGB data ([0..1] for floats or [0..255] for integers).\n",
      "Clipping input data to the valid range for imshow with RGB data ([0..1] for floats or [0..255] for integers).\n",
      "Clipping input data to the valid range for imshow with RGB data ([0..1] for floats or [0..255] for integers).\n",
      "Clipping input data to the valid range for imshow with RGB data ([0..1] for floats or [0..255] for integers).\n",
      "Clipping input data to the valid range for imshow with RGB data ([0..1] for floats or [0..255] for integers).\n",
      "Clipping input data to the valid range for imshow with RGB data ([0..1] for floats or [0..255] for integers).\n",
      "Clipping input data to the valid range for imshow with RGB data ([0..1] for floats or [0..255] for integers).\n",
      "Clipping input data to the valid range for imshow with RGB data ([0..1] for floats or [0..255] for integers).\n",
      "Clipping input data to the valid range for imshow with RGB data ([0..1] for floats or [0..255] for integers).\n",
      "Clipping input data to the valid range for imshow with RGB data ([0..1] for floats or [0..255] for integers).\n",
      "Clipping input data to the valid range for imshow with RGB data ([0..1] for floats or [0..255] for integers).\n",
      "Clipping input data to the valid range for imshow with RGB data ([0..1] for floats or [0..255] for integers).\n",
      "Clipping input data to the valid range for imshow with RGB data ([0..1] for floats or [0..255] for integers).\n",
      "Clipping input data to the valid range for imshow with RGB data ([0..1] for floats or [0..255] for integers).\n",
      "Clipping input data to the valid range for imshow with RGB data ([0..1] for floats or [0..255] for integers).\n",
      "Clipping input data to the valid range for imshow with RGB data ([0..1] for floats or [0..255] for integers).\n",
      "Clipping input data to the valid range for imshow with RGB data ([0..1] for floats or [0..255] for integers).\n"
     ]
    },
    {
     "name": "stdout",
     "output_type": "stream",
     "text": [
      "\tThe 009th iters, the 040th epoch, loss: 1717.12550\n",
      "\tThe 009th iters, the 080th epoch, loss: 1702.65917\n",
      "\tThe 009th iters, the 120th epoch, loss: 1695.50529\n",
      "\tThe 009th iters, the 160th epoch, loss: 1687.93381\n",
      "\tThe 009th iters, the 200th epoch, loss: 1680.35361\n",
      "\tThe 009th iters, the 240th epoch, loss: 1673.08216\n",
      "\tThe 009th iters, the 280th epoch, loss: 1666.01506\n",
      "s:  tensor([323.5696,  98.6836,  79.2015,  46.4910,  27.0107,  11.6872,   8.3060,\n",
      "          8.0672,   7.7419,   7.3218,   6.5063,   5.9172,   5.5339,   5.3963,\n",
      "          5.2687,   5.1063,   5.0650,   4.9301,   4.6725,   4.5272,   4.3207,\n",
      "          4.2460,   4.0794,   3.8163,   3.6837,   3.6529,   3.4445,   3.1978,\n",
      "          3.1191,   3.0014,   2.9230,   2.8854,   2.8316,   2.7336,   2.6402,\n",
      "          2.5605], device='cuda:0')\n"
     ]
    },
    {
     "name": "stderr",
     "output_type": "stream",
     "text": [
      "Clipping input data to the valid range for imshow with RGB data ([0..1] for floats or [0..255] for integers).\n",
      "Clipping input data to the valid range for imshow with RGB data ([0..1] for floats or [0..255] for integers).\n",
      "Clipping input data to the valid range for imshow with RGB data ([0..1] for floats or [0..255] for integers).\n",
      "Clipping input data to the valid range for imshow with RGB data ([0..1] for floats or [0..255] for integers).\n",
      "Clipping input data to the valid range for imshow with RGB data ([0..1] for floats or [0..255] for integers).\n",
      "Clipping input data to the valid range for imshow with RGB data ([0..1] for floats or [0..255] for integers).\n",
      "Clipping input data to the valid range for imshow with RGB data ([0..1] for floats or [0..255] for integers).\n",
      "Clipping input data to the valid range for imshow with RGB data ([0..1] for floats or [0..255] for integers).\n",
      "Clipping input data to the valid range for imshow with RGB data ([0..1] for floats or [0..255] for integers).\n",
      "Clipping input data to the valid range for imshow with RGB data ([0..1] for floats or [0..255] for integers).\n",
      "Clipping input data to the valid range for imshow with RGB data ([0..1] for floats or [0..255] for integers).\n",
      "Clipping input data to the valid range for imshow with RGB data ([0..1] for floats or [0..255] for integers).\n",
      "Clipping input data to the valid range for imshow with RGB data ([0..1] for floats or [0..255] for integers).\n",
      "Clipping input data to the valid range for imshow with RGB data ([0..1] for floats or [0..255] for integers).\n",
      "Clipping input data to the valid range for imshow with RGB data ([0..1] for floats or [0..255] for integers).\n",
      "Clipping input data to the valid range for imshow with RGB data ([0..1] for floats or [0..255] for integers).\n",
      "Clipping input data to the valid range for imshow with RGB data ([0..1] for floats or [0..255] for integers).\n",
      "Clipping input data to the valid range for imshow with RGB data ([0..1] for floats or [0..255] for integers).\n",
      "Clipping input data to the valid range for imshow with RGB data ([0..1] for floats or [0..255] for integers).\n",
      "Clipping input data to the valid range for imshow with RGB data ([0..1] for floats or [0..255] for integers).\n",
      "Clipping input data to the valid range for imshow with RGB data ([0..1] for floats or [0..255] for integers).\n",
      "Clipping input data to the valid range for imshow with RGB data ([0..1] for floats or [0..255] for integers).\n",
      "Clipping input data to the valid range for imshow with RGB data ([0..1] for floats or [0..255] for integers).\n",
      "Clipping input data to the valid range for imshow with RGB data ([0..1] for floats or [0..255] for integers).\n"
     ]
    },
    {
     "name": "stdout",
     "output_type": "stream",
     "text": [
      "\tThe 010th iters, the 040th epoch, loss: 1762.49220\n",
      "\tThe 010th iters, the 080th epoch, loss: 1747.86646\n",
      "\tThe 010th iters, the 120th epoch, loss: 1742.50633\n",
      "\tThe 010th iters, the 160th epoch, loss: 1737.27305\n",
      "\tThe 010th iters, the 200th epoch, loss: 1731.79995\n",
      "\tThe 010th iters, the 240th epoch, loss: 1726.05055\n",
      "\tThe 010th iters, the 280th epoch, loss: 1720.34927\n",
      "s:  tensor([269.9667,  65.8569,  48.8729,  27.4910,  24.6338,  11.5686,   8.4461,\n",
      "          8.1471,   7.8184,   7.2901,   6.6893,   5.9695,   5.8253,   5.5900,\n",
      "          5.3524,   5.3384,   5.2243,   5.0773,   4.8394,   4.6975,   4.4788,\n",
      "          4.4336,   4.1573,   3.9219,   3.8007,   3.6815,   3.4806,   3.2777,\n",
      "          3.1491,   3.0343,   2.9543,   2.9269,   2.8619,   2.7865,   2.6648,\n",
      "          2.5926], device='cuda:0')\n"
     ]
    },
    {
     "name": "stderr",
     "output_type": "stream",
     "text": [
      "Clipping input data to the valid range for imshow with RGB data ([0..1] for floats or [0..255] for integers).\n",
      "Clipping input data to the valid range for imshow with RGB data ([0..1] for floats or [0..255] for integers).\n",
      "Clipping input data to the valid range for imshow with RGB data ([0..1] for floats or [0..255] for integers).\n",
      "Clipping input data to the valid range for imshow with RGB data ([0..1] for floats or [0..255] for integers).\n",
      "Clipping input data to the valid range for imshow with RGB data ([0..1] for floats or [0..255] for integers).\n",
      "Clipping input data to the valid range for imshow with RGB data ([0..1] for floats or [0..255] for integers).\n",
      "Clipping input data to the valid range for imshow with RGB data ([0..1] for floats or [0..255] for integers).\n",
      "Clipping input data to the valid range for imshow with RGB data ([0..1] for floats or [0..255] for integers).\n",
      "Clipping input data to the valid range for imshow with RGB data ([0..1] for floats or [0..255] for integers).\n",
      "Clipping input data to the valid range for imshow with RGB data ([0..1] for floats or [0..255] for integers).\n",
      "Clipping input data to the valid range for imshow with RGB data ([0..1] for floats or [0..255] for integers).\n",
      "Clipping input data to the valid range for imshow with RGB data ([0..1] for floats or [0..255] for integers).\n",
      "Clipping input data to the valid range for imshow with RGB data ([0..1] for floats or [0..255] for integers).\n",
      "Clipping input data to the valid range for imshow with RGB data ([0..1] for floats or [0..255] for integers).\n",
      "Clipping input data to the valid range for imshow with RGB data ([0..1] for floats or [0..255] for integers).\n",
      "Clipping input data to the valid range for imshow with RGB data ([0..1] for floats or [0..255] for integers).\n",
      "Clipping input data to the valid range for imshow with RGB data ([0..1] for floats or [0..255] for integers).\n",
      "Clipping input data to the valid range for imshow with RGB data ([0..1] for floats or [0..255] for integers).\n",
      "Clipping input data to the valid range for imshow with RGB data ([0..1] for floats or [0..255] for integers).\n",
      "Clipping input data to the valid range for imshow with RGB data ([0..1] for floats or [0..255] for integers).\n",
      "Clipping input data to the valid range for imshow with RGB data ([0..1] for floats or [0..255] for integers).\n",
      "Clipping input data to the valid range for imshow with RGB data ([0..1] for floats or [0..255] for integers).\n",
      "Clipping input data to the valid range for imshow with RGB data ([0..1] for floats or [0..255] for integers).\n",
      "Clipping input data to the valid range for imshow with RGB data ([0..1] for floats or [0..255] for integers).\n"
     ]
    },
    {
     "name": "stdout",
     "output_type": "stream",
     "text": [
      "\tThe 011th iters, the 040th epoch, loss: 1763.17485\n",
      "\tThe 011th iters, the 080th epoch, loss: 1749.40661\n",
      "\tThe 011th iters, the 120th epoch, loss: 1743.77233\n",
      "\tThe 011th iters, the 160th epoch, loss: 1739.14242\n",
      "\tThe 011th iters, the 200th epoch, loss: 1734.53340\n",
      "\tThe 011th iters, the 240th epoch, loss: 1729.60717\n",
      "\tThe 011th iters, the 280th epoch, loss: 1724.27704\n",
      "s:  tensor([233.0156,  44.0798,  27.4048,  26.7380,  17.8250,  11.3820,   8.6449,\n",
      "          8.3511,   7.8762,   7.2610,   6.8390,   6.1869,   5.9792,   5.7375,\n",
      "          5.5692,   5.4675,   5.3601,   5.1670,   4.9961,   4.8447,   4.6304,\n",
      "          4.6147,   4.2845,   4.0674,   3.8722,   3.7234,   3.4734,   3.3133,\n",
      "          3.1580,   3.0571,   2.9720,   2.9480,   2.9020,   2.8089,   2.6901,\n",
      "          2.6105], device='cuda:0')\n"
     ]
    },
    {
     "name": "stderr",
     "output_type": "stream",
     "text": [
      "Clipping input data to the valid range for imshow with RGB data ([0..1] for floats or [0..255] for integers).\n",
      "Clipping input data to the valid range for imshow with RGB data ([0..1] for floats or [0..255] for integers).\n",
      "Clipping input data to the valid range for imshow with RGB data ([0..1] for floats or [0..255] for integers).\n",
      "Clipping input data to the valid range for imshow with RGB data ([0..1] for floats or [0..255] for integers).\n",
      "Clipping input data to the valid range for imshow with RGB data ([0..1] for floats or [0..255] for integers).\n",
      "Clipping input data to the valid range for imshow with RGB data ([0..1] for floats or [0..255] for integers).\n",
      "Clipping input data to the valid range for imshow with RGB data ([0..1] for floats or [0..255] for integers).\n",
      "Clipping input data to the valid range for imshow with RGB data ([0..1] for floats or [0..255] for integers).\n",
      "Clipping input data to the valid range for imshow with RGB data ([0..1] for floats or [0..255] for integers).\n",
      "Clipping input data to the valid range for imshow with RGB data ([0..1] for floats or [0..255] for integers).\n",
      "Clipping input data to the valid range for imshow with RGB data ([0..1] for floats or [0..255] for integers).\n",
      "Clipping input data to the valid range for imshow with RGB data ([0..1] for floats or [0..255] for integers).\n",
      "Clipping input data to the valid range for imshow with RGB data ([0..1] for floats or [0..255] for integers).\n",
      "Clipping input data to the valid range for imshow with RGB data ([0..1] for floats or [0..255] for integers).\n",
      "Clipping input data to the valid range for imshow with RGB data ([0..1] for floats or [0..255] for integers).\n",
      "Clipping input data to the valid range for imshow with RGB data ([0..1] for floats or [0..255] for integers).\n",
      "Clipping input data to the valid range for imshow with RGB data ([0..1] for floats or [0..255] for integers).\n",
      "Clipping input data to the valid range for imshow with RGB data ([0..1] for floats or [0..255] for integers).\n",
      "Clipping input data to the valid range for imshow with RGB data ([0..1] for floats or [0..255] for integers).\n",
      "Clipping input data to the valid range for imshow with RGB data ([0..1] for floats or [0..255] for integers).\n",
      "Clipping input data to the valid range for imshow with RGB data ([0..1] for floats or [0..255] for integers).\n",
      "Clipping input data to the valid range for imshow with RGB data ([0..1] for floats or [0..255] for integers).\n",
      "Clipping input data to the valid range for imshow with RGB data ([0..1] for floats or [0..255] for integers).\n",
      "Clipping input data to the valid range for imshow with RGB data ([0..1] for floats or [0..255] for integers).\n"
     ]
    },
    {
     "name": "stdout",
     "output_type": "stream",
     "text": [
      "\tThe 012th iters, the 040th epoch, loss: 1768.10929\n",
      "\tThe 012th iters, the 080th epoch, loss: 1751.25308\n",
      "\tThe 012th iters, the 120th epoch, loss: 1747.38779\n",
      "\tThe 012th iters, the 160th epoch, loss: 1744.20739\n",
      "\tThe 012th iters, the 200th epoch, loss: 1741.44173\n",
      "\tThe 012th iters, the 240th epoch, loss: 1738.64385\n",
      "\tThe 012th iters, the 280th epoch, loss: 1735.36686\n",
      "s:  tensor([214.6986,  29.4896,  26.9286,  20.8189,  14.4995,  11.0564,   8.7542,\n",
      "          8.4505,   7.9634,   7.2413,   6.9938,   6.3720,   6.0891,   5.9148,\n",
      "          5.6803,   5.5834,   5.4994,   5.2677,   5.1338,   4.9917,   4.7578,\n",
      "          4.7028,   4.4206,   4.2379,   3.9072,   3.7548,   3.4544,   3.3426,\n",
      "          3.1797,   3.0865,   2.9918,   2.9605,   2.9145,   2.8248,   2.7119,\n",
      "          2.6285], device='cuda:0')\n"
     ]
    },
    {
     "name": "stderr",
     "output_type": "stream",
     "text": [
      "Clipping input data to the valid range for imshow with RGB data ([0..1] for floats or [0..255] for integers).\n",
      "Clipping input data to the valid range for imshow with RGB data ([0..1] for floats or [0..255] for integers).\n",
      "Clipping input data to the valid range for imshow with RGB data ([0..1] for floats or [0..255] for integers).\n",
      "Clipping input data to the valid range for imshow with RGB data ([0..1] for floats or [0..255] for integers).\n",
      "Clipping input data to the valid range for imshow with RGB data ([0..1] for floats or [0..255] for integers).\n",
      "Clipping input data to the valid range for imshow with RGB data ([0..1] for floats or [0..255] for integers).\n",
      "Clipping input data to the valid range for imshow with RGB data ([0..1] for floats or [0..255] for integers).\n",
      "Clipping input data to the valid range for imshow with RGB data ([0..1] for floats or [0..255] for integers).\n",
      "Clipping input data to the valid range for imshow with RGB data ([0..1] for floats or [0..255] for integers).\n",
      "Clipping input data to the valid range for imshow with RGB data ([0..1] for floats or [0..255] for integers).\n",
      "Clipping input data to the valid range for imshow with RGB data ([0..1] for floats or [0..255] for integers).\n",
      "Clipping input data to the valid range for imshow with RGB data ([0..1] for floats or [0..255] for integers).\n",
      "Clipping input data to the valid range for imshow with RGB data ([0..1] for floats or [0..255] for integers).\n",
      "Clipping input data to the valid range for imshow with RGB data ([0..1] for floats or [0..255] for integers).\n",
      "Clipping input data to the valid range for imshow with RGB data ([0..1] for floats or [0..255] for integers).\n",
      "Clipping input data to the valid range for imshow with RGB data ([0..1] for floats or [0..255] for integers).\n",
      "Clipping input data to the valid range for imshow with RGB data ([0..1] for floats or [0..255] for integers).\n",
      "Clipping input data to the valid range for imshow with RGB data ([0..1] for floats or [0..255] for integers).\n",
      "Clipping input data to the valid range for imshow with RGB data ([0..1] for floats or [0..255] for integers).\n",
      "Clipping input data to the valid range for imshow with RGB data ([0..1] for floats or [0..255] for integers).\n",
      "Clipping input data to the valid range for imshow with RGB data ([0..1] for floats or [0..255] for integers).\n",
      "Clipping input data to the valid range for imshow with RGB data ([0..1] for floats or [0..255] for integers).\n",
      "Clipping input data to the valid range for imshow with RGB data ([0..1] for floats or [0..255] for integers).\n",
      "Clipping input data to the valid range for imshow with RGB data ([0..1] for floats or [0..255] for integers).\n"
     ]
    },
    {
     "name": "stdout",
     "output_type": "stream",
     "text": [
      "\tThe 013th iters, the 040th epoch, loss: 1964.89571\n",
      "\tThe 013th iters, the 080th epoch, loss: 1952.13300\n",
      "\tThe 013th iters, the 120th epoch, loss: 1943.25792\n",
      "\tThe 013th iters, the 160th epoch, loss: 1932.64146\n",
      "\tThe 013th iters, the 200th epoch, loss: 1925.00067\n",
      "\tThe 013th iters, the 240th epoch, loss: 1911.56065\n",
      "\tThe 013th iters, the 280th epoch, loss: 1902.18038\n",
      "s:  tensor([204.1608,  26.9687,  22.1386,  14.0170,  12.4415,  10.5953,   8.7396,\n",
      "          8.3760,   8.0397,   7.1209,   6.9221,   6.5304,   6.3597,   5.9973,\n",
      "          5.7977,   5.6882,   5.5874,   5.3952,   5.2576,   5.0203,   4.8915,\n",
      "          4.7322,   4.5461,   4.4325,   3.9177,   3.7568,   3.4215,   3.3830,\n",
      "          3.2000,   3.0920,   3.0188,   2.9622,   2.9017,   2.8225,   2.7277,\n",
      "          2.6388], device='cuda:0')\n"
     ]
    },
    {
     "name": "stderr",
     "output_type": "stream",
     "text": [
      "Clipping input data to the valid range for imshow with RGB data ([0..1] for floats or [0..255] for integers).\n",
      "Clipping input data to the valid range for imshow with RGB data ([0..1] for floats or [0..255] for integers).\n",
      "Clipping input data to the valid range for imshow with RGB data ([0..1] for floats or [0..255] for integers).\n",
      "Clipping input data to the valid range for imshow with RGB data ([0..1] for floats or [0..255] for integers).\n",
      "Clipping input data to the valid range for imshow with RGB data ([0..1] for floats or [0..255] for integers).\n",
      "Clipping input data to the valid range for imshow with RGB data ([0..1] for floats or [0..255] for integers).\n",
      "Clipping input data to the valid range for imshow with RGB data ([0..1] for floats or [0..255] for integers).\n",
      "Clipping input data to the valid range for imshow with RGB data ([0..1] for floats or [0..255] for integers).\n",
      "Clipping input data to the valid range for imshow with RGB data ([0..1] for floats or [0..255] for integers).\n",
      "Clipping input data to the valid range for imshow with RGB data ([0..1] for floats or [0..255] for integers).\n",
      "Clipping input data to the valid range for imshow with RGB data ([0..1] for floats or [0..255] for integers).\n",
      "Clipping input data to the valid range for imshow with RGB data ([0..1] for floats or [0..255] for integers).\n",
      "Clipping input data to the valid range for imshow with RGB data ([0..1] for floats or [0..255] for integers).\n",
      "Clipping input data to the valid range for imshow with RGB data ([0..1] for floats or [0..255] for integers).\n",
      "Clipping input data to the valid range for imshow with RGB data ([0..1] for floats or [0..255] for integers).\n",
      "Clipping input data to the valid range for imshow with RGB data ([0..1] for floats or [0..255] for integers).\n",
      "Clipping input data to the valid range for imshow with RGB data ([0..1] for floats or [0..255] for integers).\n",
      "Clipping input data to the valid range for imshow with RGB data ([0..1] for floats or [0..255] for integers).\n",
      "Clipping input data to the valid range for imshow with RGB data ([0..1] for floats or [0..255] for integers).\n",
      "Clipping input data to the valid range for imshow with RGB data ([0..1] for floats or [0..255] for integers).\n",
      "Clipping input data to the valid range for imshow with RGB data ([0..1] for floats or [0..255] for integers).\n",
      "Clipping input data to the valid range for imshow with RGB data ([0..1] for floats or [0..255] for integers).\n",
      "Clipping input data to the valid range for imshow with RGB data ([0..1] for floats or [0..255] for integers).\n",
      "Clipping input data to the valid range for imshow with RGB data ([0..1] for floats or [0..255] for integers).\n"
     ]
    },
    {
     "name": "stdout",
     "output_type": "stream",
     "text": [
      "\tThe 014th iters, the 040th epoch, loss: 2009.23585\n",
      "\tThe 014th iters, the 080th epoch, loss: 2003.01451\n",
      "\tThe 014th iters, the 120th epoch, loss: 1999.77707\n",
      "\tThe 014th iters, the 160th epoch, loss: 1996.48170\n",
      "\tThe 014th iters, the 200th epoch, loss: 1993.04864\n",
      "\tThe 014th iters, the 240th epoch, loss: 1989.74029\n",
      "\tThe 014th iters, the 280th epoch, loss: 1986.62729\n",
      "s:  tensor([200.6696,  27.0638,  20.4506,  12.3901,  10.0512,   9.6080,   8.4923,\n",
      "          8.3257,   7.9971,   6.9217,   6.6409,   6.5338,   6.4218,   6.0830,\n",
      "          5.8499,   5.7120,   5.6529,   5.3860,   5.2529,   5.0162,   4.9252,\n",
      "          4.7168,   4.5684,   4.4465,   3.8775,   3.7280,   3.3987,   3.3729,\n",
      "          3.1916,   3.0874,   3.0228,   2.9536,   2.8785,   2.8135,   2.7175,\n",
      "          2.6290], device='cuda:0')\n"
     ]
    },
    {
     "name": "stderr",
     "output_type": "stream",
     "text": [
      "Clipping input data to the valid range for imshow with RGB data ([0..1] for floats or [0..255] for integers).\n",
      "Clipping input data to the valid range for imshow with RGB data ([0..1] for floats or [0..255] for integers).\n",
      "Clipping input data to the valid range for imshow with RGB data ([0..1] for floats or [0..255] for integers).\n",
      "Clipping input data to the valid range for imshow with RGB data ([0..1] for floats or [0..255] for integers).\n",
      "Clipping input data to the valid range for imshow with RGB data ([0..1] for floats or [0..255] for integers).\n",
      "Clipping input data to the valid range for imshow with RGB data ([0..1] for floats or [0..255] for integers).\n",
      "Clipping input data to the valid range for imshow with RGB data ([0..1] for floats or [0..255] for integers).\n",
      "Clipping input data to the valid range for imshow with RGB data ([0..1] for floats or [0..255] for integers).\n",
      "Clipping input data to the valid range for imshow with RGB data ([0..1] for floats or [0..255] for integers).\n",
      "Clipping input data to the valid range for imshow with RGB data ([0..1] for floats or [0..255] for integers).\n",
      "Clipping input data to the valid range for imshow with RGB data ([0..1] for floats or [0..255] for integers).\n",
      "Clipping input data to the valid range for imshow with RGB data ([0..1] for floats or [0..255] for integers).\n",
      "Clipping input data to the valid range for imshow with RGB data ([0..1] for floats or [0..255] for integers).\n",
      "Clipping input data to the valid range for imshow with RGB data ([0..1] for floats or [0..255] for integers).\n",
      "Clipping input data to the valid range for imshow with RGB data ([0..1] for floats or [0..255] for integers).\n",
      "Clipping input data to the valid range for imshow with RGB data ([0..1] for floats or [0..255] for integers).\n",
      "Clipping input data to the valid range for imshow with RGB data ([0..1] for floats or [0..255] for integers).\n",
      "Clipping input data to the valid range for imshow with RGB data ([0..1] for floats or [0..255] for integers).\n",
      "Clipping input data to the valid range for imshow with RGB data ([0..1] for floats or [0..255] for integers).\n",
      "Clipping input data to the valid range for imshow with RGB data ([0..1] for floats or [0..255] for integers).\n",
      "Clipping input data to the valid range for imshow with RGB data ([0..1] for floats or [0..255] for integers).\n",
      "Clipping input data to the valid range for imshow with RGB data ([0..1] for floats or [0..255] for integers).\n",
      "Clipping input data to the valid range for imshow with RGB data ([0..1] for floats or [0..255] for integers).\n",
      "Clipping input data to the valid range for imshow with RGB data ([0..1] for floats or [0..255] for integers).\n"
     ]
    },
    {
     "name": "stdout",
     "output_type": "stream",
     "text": [
      "\tThe 015th iters, the 040th epoch, loss: 2093.68281\n",
      "\tThe 015th iters, the 080th epoch, loss: 2088.50762\n",
      "\tThe 015th iters, the 120th epoch, loss: 2086.92801\n",
      "\tThe 015th iters, the 160th epoch, loss: 2085.44825\n",
      "\tThe 015th iters, the 200th epoch, loss: 2083.85040\n",
      "\tThe 015th iters, the 240th epoch, loss: 2082.11371\n",
      "\tThe 015th iters, the 280th epoch, loss: 2080.24047\n",
      "s:  tensor([198.6131,  27.1917,  19.8694,  11.5886,   9.4492,   8.7467,   8.2061,\n",
      "          8.1208,   7.8917,   6.6130,   6.5427,   6.4094,   6.2343,   6.0954,\n",
      "          5.8248,   5.7001,   5.5881,   5.3787,   5.2037,   5.0378,   4.9409,\n",
      "          4.7183,   4.5824,   4.4710,   3.8446,   3.7117,   3.3803,   3.3341,\n",
      "          3.1891,   3.0753,   3.0127,   2.9438,   2.8719,   2.8039,   2.7052,\n",
      "          2.6048], device='cuda:0')\n"
     ]
    },
    {
     "name": "stderr",
     "output_type": "stream",
     "text": [
      "Clipping input data to the valid range for imshow with RGB data ([0..1] for floats or [0..255] for integers).\n",
      "Clipping input data to the valid range for imshow with RGB data ([0..1] for floats or [0..255] for integers).\n",
      "Clipping input data to the valid range for imshow with RGB data ([0..1] for floats or [0..255] for integers).\n",
      "Clipping input data to the valid range for imshow with RGB data ([0..1] for floats or [0..255] for integers).\n",
      "Clipping input data to the valid range for imshow with RGB data ([0..1] for floats or [0..255] for integers).\n",
      "Clipping input data to the valid range for imshow with RGB data ([0..1] for floats or [0..255] for integers).\n",
      "Clipping input data to the valid range for imshow with RGB data ([0..1] for floats or [0..255] for integers).\n",
      "Clipping input data to the valid range for imshow with RGB data ([0..1] for floats or [0..255] for integers).\n",
      "Clipping input data to the valid range for imshow with RGB data ([0..1] for floats or [0..255] for integers).\n",
      "Clipping input data to the valid range for imshow with RGB data ([0..1] for floats or [0..255] for integers).\n",
      "Clipping input data to the valid range for imshow with RGB data ([0..1] for floats or [0..255] for integers).\n",
      "Clipping input data to the valid range for imshow with RGB data ([0..1] for floats or [0..255] for integers).\n",
      "Clipping input data to the valid range for imshow with RGB data ([0..1] for floats or [0..255] for integers).\n",
      "Clipping input data to the valid range for imshow with RGB data ([0..1] for floats or [0..255] for integers).\n",
      "Clipping input data to the valid range for imshow with RGB data ([0..1] for floats or [0..255] for integers).\n",
      "Clipping input data to the valid range for imshow with RGB data ([0..1] for floats or [0..255] for integers).\n",
      "Clipping input data to the valid range for imshow with RGB data ([0..1] for floats or [0..255] for integers).\n",
      "Clipping input data to the valid range for imshow with RGB data ([0..1] for floats or [0..255] for integers).\n",
      "Clipping input data to the valid range for imshow with RGB data ([0..1] for floats or [0..255] for integers).\n",
      "Clipping input data to the valid range for imshow with RGB data ([0..1] for floats or [0..255] for integers).\n",
      "Clipping input data to the valid range for imshow with RGB data ([0..1] for floats or [0..255] for integers).\n",
      "Clipping input data to the valid range for imshow with RGB data ([0..1] for floats or [0..255] for integers).\n",
      "Clipping input data to the valid range for imshow with RGB data ([0..1] for floats or [0..255] for integers).\n",
      "Clipping input data to the valid range for imshow with RGB data ([0..1] for floats or [0..255] for integers).\n"
     ]
    },
    {
     "name": "stdout",
     "output_type": "stream",
     "text": [
      "\tThe 016th iters, the 040th epoch, loss: 1972.48465\n",
      "\tThe 016th iters, the 080th epoch, loss: 1969.70013\n",
      "\tThe 016th iters, the 120th epoch, loss: 1968.65367\n",
      "\tThe 016th iters, the 160th epoch, loss: 1967.58188\n",
      "\tThe 016th iters, the 200th epoch, loss: 1966.33574\n",
      "\tThe 016th iters, the 240th epoch, loss: 1964.87405\n",
      "\tThe 016th iters, the 280th epoch, loss: 1963.15701\n",
      "s:  tensor([196.7281,  27.4421,  19.7259,  11.2426,   9.3401,   8.5521,   8.0313,\n",
      "          7.7537,   7.5318,   6.5719,   6.3601,   6.1121,   6.0439,   5.9879,\n",
      "          5.7205,   5.6570,   5.4198,   5.3399,   5.1818,   5.0254,   4.8645,\n",
      "          4.7069,   4.5778,   4.4650,   3.7792,   3.6691,   3.3268,   3.2778,\n",
      "          3.1612,   3.0400,   2.9822,   2.9133,   2.8304,   2.7694,   2.6818,\n",
      "          2.5811], device='cuda:0')\n"
     ]
    },
    {
     "name": "stderr",
     "output_type": "stream",
     "text": [
      "Clipping input data to the valid range for imshow with RGB data ([0..1] for floats or [0..255] for integers).\n",
      "Clipping input data to the valid range for imshow with RGB data ([0..1] for floats or [0..255] for integers).\n",
      "Clipping input data to the valid range for imshow with RGB data ([0..1] for floats or [0..255] for integers).\n",
      "Clipping input data to the valid range for imshow with RGB data ([0..1] for floats or [0..255] for integers).\n",
      "Clipping input data to the valid range for imshow with RGB data ([0..1] for floats or [0..255] for integers).\n",
      "Clipping input data to the valid range for imshow with RGB data ([0..1] for floats or [0..255] for integers).\n",
      "Clipping input data to the valid range for imshow with RGB data ([0..1] for floats or [0..255] for integers).\n",
      "Clipping input data to the valid range for imshow with RGB data ([0..1] for floats or [0..255] for integers).\n",
      "Clipping input data to the valid range for imshow with RGB data ([0..1] for floats or [0..255] for integers).\n",
      "Clipping input data to the valid range for imshow with RGB data ([0..1] for floats or [0..255] for integers).\n",
      "Clipping input data to the valid range for imshow with RGB data ([0..1] for floats or [0..255] for integers).\n",
      "Clipping input data to the valid range for imshow with RGB data ([0..1] for floats or [0..255] for integers).\n",
      "Clipping input data to the valid range for imshow with RGB data ([0..1] for floats or [0..255] for integers).\n",
      "Clipping input data to the valid range for imshow with RGB data ([0..1] for floats or [0..255] for integers).\n",
      "Clipping input data to the valid range for imshow with RGB data ([0..1] for floats or [0..255] for integers).\n",
      "Clipping input data to the valid range for imshow with RGB data ([0..1] for floats or [0..255] for integers).\n",
      "Clipping input data to the valid range for imshow with RGB data ([0..1] for floats or [0..255] for integers).\n",
      "Clipping input data to the valid range for imshow with RGB data ([0..1] for floats or [0..255] for integers).\n",
      "Clipping input data to the valid range for imshow with RGB data ([0..1] for floats or [0..255] for integers).\n",
      "Clipping input data to the valid range for imshow with RGB data ([0..1] for floats or [0..255] for integers).\n",
      "Clipping input data to the valid range for imshow with RGB data ([0..1] for floats or [0..255] for integers).\n",
      "Clipping input data to the valid range for imshow with RGB data ([0..1] for floats or [0..255] for integers).\n",
      "Clipping input data to the valid range for imshow with RGB data ([0..1] for floats or [0..255] for integers).\n",
      "Clipping input data to the valid range for imshow with RGB data ([0..1] for floats or [0..255] for integers).\n"
     ]
    },
    {
     "name": "stdout",
     "output_type": "stream",
     "text": [
      "\tThe 017th iters, the 040th epoch, loss: 1997.14440\n",
      "\tThe 017th iters, the 080th epoch, loss: 1995.15880\n",
      "\tThe 017th iters, the 120th epoch, loss: 1993.48338\n",
      "\tThe 017th iters, the 160th epoch, loss: 1991.62436\n",
      "\tThe 017th iters, the 200th epoch, loss: 1989.40012\n",
      "\tThe 017th iters, the 240th epoch, loss: 1988.72810\n",
      "\tThe 017th iters, the 280th epoch, loss: 1983.02699\n",
      "s:  tensor([194.0255,  27.7198,  20.3232,  11.1496,   9.7700,   8.4929,   7.7826,\n",
      "          7.3463,   7.1950,   6.4737,   6.3596,   6.2024,   5.8196,   5.6415,\n",
      "          5.5251,   5.4511,   5.2739,   5.0958,   5.0175,   4.8496,   4.7229,\n",
      "          4.6053,   4.4539,   4.4050,   3.6402,   3.5633,   3.1668,   3.1198,\n",
      "          3.0472,   2.9294,   2.8692,   2.8107,   2.7118,   2.6586,   2.5974,\n",
      "          2.4944], device='cuda:0')\n"
     ]
    },
    {
     "name": "stderr",
     "output_type": "stream",
     "text": [
      "Clipping input data to the valid range for imshow with RGB data ([0..1] for floats or [0..255] for integers).\n",
      "Clipping input data to the valid range for imshow with RGB data ([0..1] for floats or [0..255] for integers).\n",
      "Clipping input data to the valid range for imshow with RGB data ([0..1] for floats or [0..255] for integers).\n",
      "Clipping input data to the valid range for imshow with RGB data ([0..1] for floats or [0..255] for integers).\n",
      "Clipping input data to the valid range for imshow with RGB data ([0..1] for floats or [0..255] for integers).\n",
      "Clipping input data to the valid range for imshow with RGB data ([0..1] for floats or [0..255] for integers).\n",
      "Clipping input data to the valid range for imshow with RGB data ([0..1] for floats or [0..255] for integers).\n",
      "Clipping input data to the valid range for imshow with RGB data ([0..1] for floats or [0..255] for integers).\n",
      "Clipping input data to the valid range for imshow with RGB data ([0..1] for floats or [0..255] for integers).\n",
      "Clipping input data to the valid range for imshow with RGB data ([0..1] for floats or [0..255] for integers).\n",
      "Clipping input data to the valid range for imshow with RGB data ([0..1] for floats or [0..255] for integers).\n",
      "Clipping input data to the valid range for imshow with RGB data ([0..1] for floats or [0..255] for integers).\n",
      "Clipping input data to the valid range for imshow with RGB data ([0..1] for floats or [0..255] for integers).\n",
      "Clipping input data to the valid range for imshow with RGB data ([0..1] for floats or [0..255] for integers).\n",
      "Clipping input data to the valid range for imshow with RGB data ([0..1] for floats or [0..255] for integers).\n",
      "Clipping input data to the valid range for imshow with RGB data ([0..1] for floats or [0..255] for integers).\n",
      "Clipping input data to the valid range for imshow with RGB data ([0..1] for floats or [0..255] for integers).\n",
      "Clipping input data to the valid range for imshow with RGB data ([0..1] for floats or [0..255] for integers).\n",
      "Clipping input data to the valid range for imshow with RGB data ([0..1] for floats or [0..255] for integers).\n",
      "Clipping input data to the valid range for imshow with RGB data ([0..1] for floats or [0..255] for integers).\n",
      "Clipping input data to the valid range for imshow with RGB data ([0..1] for floats or [0..255] for integers).\n",
      "Clipping input data to the valid range for imshow with RGB data ([0..1] for floats or [0..255] for integers).\n",
      "Clipping input data to the valid range for imshow with RGB data ([0..1] for floats or [0..255] for integers).\n",
      "Clipping input data to the valid range for imshow with RGB data ([0..1] for floats or [0..255] for integers).\n"
     ]
    },
    {
     "name": "stdout",
     "output_type": "stream",
     "text": [
      "\tThe 018th iters, the 040th epoch, loss: 1980.33566\n",
      "\tThe 018th iters, the 080th epoch, loss: 1977.67114\n",
      "\tThe 018th iters, the 120th epoch, loss: 1976.81220\n",
      "\tThe 018th iters, the 160th epoch, loss: 1976.06445\n",
      "\tThe 018th iters, the 200th epoch, loss: 1975.31763\n",
      "\tThe 018th iters, the 240th epoch, loss: 1974.52214\n",
      "\tThe 018th iters, the 280th epoch, loss: 1973.63198\n",
      "s:  tensor([191.9493,  28.0564,  20.8052,  10.9667,   9.7072,   8.5416,   7.6739,\n",
      "          7.0525,   6.9364,   6.4651,   6.2781,   6.0916,   5.6806,   5.4978,\n",
      "          5.4495,   5.3428,   5.1740,   5.0050,   4.9184,   4.7626,   4.6122,\n",
      "          4.5134,   4.3915,   4.3629,   3.6002,   3.5042,   3.0850,   3.0317,\n",
      "          2.9776,   2.8879,   2.8067,   2.7568,   2.6679,   2.5986,   2.5409,\n",
      "          2.4562], device='cuda:0')\n"
     ]
    },
    {
     "name": "stderr",
     "output_type": "stream",
     "text": [
      "Clipping input data to the valid range for imshow with RGB data ([0..1] for floats or [0..255] for integers).\n",
      "Clipping input data to the valid range for imshow with RGB data ([0..1] for floats or [0..255] for integers).\n",
      "Clipping input data to the valid range for imshow with RGB data ([0..1] for floats or [0..255] for integers).\n",
      "Clipping input data to the valid range for imshow with RGB data ([0..1] for floats or [0..255] for integers).\n",
      "Clipping input data to the valid range for imshow with RGB data ([0..1] for floats or [0..255] for integers).\n",
      "Clipping input data to the valid range for imshow with RGB data ([0..1] for floats or [0..255] for integers).\n",
      "Clipping input data to the valid range for imshow with RGB data ([0..1] for floats or [0..255] for integers).\n",
      "Clipping input data to the valid range for imshow with RGB data ([0..1] for floats or [0..255] for integers).\n",
      "Clipping input data to the valid range for imshow with RGB data ([0..1] for floats or [0..255] for integers).\n",
      "Clipping input data to the valid range for imshow with RGB data ([0..1] for floats or [0..255] for integers).\n",
      "Clipping input data to the valid range for imshow with RGB data ([0..1] for floats or [0..255] for integers).\n",
      "Clipping input data to the valid range for imshow with RGB data ([0..1] for floats or [0..255] for integers).\n",
      "Clipping input data to the valid range for imshow with RGB data ([0..1] for floats or [0..255] for integers).\n",
      "Clipping input data to the valid range for imshow with RGB data ([0..1] for floats or [0..255] for integers).\n",
      "Clipping input data to the valid range for imshow with RGB data ([0..1] for floats or [0..255] for integers).\n",
      "Clipping input data to the valid range for imshow with RGB data ([0..1] for floats or [0..255] for integers).\n",
      "Clipping input data to the valid range for imshow with RGB data ([0..1] for floats or [0..255] for integers).\n",
      "Clipping input data to the valid range for imshow with RGB data ([0..1] for floats or [0..255] for integers).\n",
      "Clipping input data to the valid range for imshow with RGB data ([0..1] for floats or [0..255] for integers).\n",
      "Clipping input data to the valid range for imshow with RGB data ([0..1] for floats or [0..255] for integers).\n",
      "Clipping input data to the valid range for imshow with RGB data ([0..1] for floats or [0..255] for integers).\n",
      "Clipping input data to the valid range for imshow with RGB data ([0..1] for floats or [0..255] for integers).\n",
      "Clipping input data to the valid range for imshow with RGB data ([0..1] for floats or [0..255] for integers).\n",
      "Clipping input data to the valid range for imshow with RGB data ([0..1] for floats or [0..255] for integers).\n"
     ]
    },
    {
     "name": "stdout",
     "output_type": "stream",
     "text": [
      "\tThe 019th iters, the 040th epoch, loss: 2058.58960\n",
      "\tThe 019th iters, the 080th epoch, loss: 2056.92425\n",
      "\tThe 019th iters, the 120th epoch, loss: 2056.22082\n",
      "\tThe 019th iters, the 160th epoch, loss: 2055.45622\n",
      "\tThe 019th iters, the 200th epoch, loss: 2054.54352\n",
      "\tThe 019th iters, the 240th epoch, loss: 2053.89512\n",
      "\tThe 019th iters, the 280th epoch, loss: 2052.10095\n",
      "s:  tensor([190.6088,  28.4414,  20.6494,  10.9314,   9.4835,   8.6275,   7.6186,\n",
      "          6.9148,   6.7385,   6.4385,   6.1253,   5.9715,   5.5519,   5.3710,\n",
      "          5.3465,   5.2852,   5.0320,   4.9293,   4.8679,   4.6861,   4.5468,\n",
      "          4.4300,   4.3744,   4.2880,   3.5315,   3.4246,   2.9855,   2.9609,\n",
      "          2.8786,   2.8400,   2.7394,   2.6901,   2.6277,   2.5416,   2.4734,\n",
      "          2.4135], device='cuda:0')\n"
     ]
    },
    {
     "name": "stderr",
     "output_type": "stream",
     "text": [
      "Clipping input data to the valid range for imshow with RGB data ([0..1] for floats or [0..255] for integers).\n",
      "Clipping input data to the valid range for imshow with RGB data ([0..1] for floats or [0..255] for integers).\n",
      "Clipping input data to the valid range for imshow with RGB data ([0..1] for floats or [0..255] for integers).\n",
      "Clipping input data to the valid range for imshow with RGB data ([0..1] for floats or [0..255] for integers).\n",
      "Clipping input data to the valid range for imshow with RGB data ([0..1] for floats or [0..255] for integers).\n",
      "Clipping input data to the valid range for imshow with RGB data ([0..1] for floats or [0..255] for integers).\n",
      "Clipping input data to the valid range for imshow with RGB data ([0..1] for floats or [0..255] for integers).\n",
      "Clipping input data to the valid range for imshow with RGB data ([0..1] for floats or [0..255] for integers).\n",
      "Clipping input data to the valid range for imshow with RGB data ([0..1] for floats or [0..255] for integers).\n",
      "Clipping input data to the valid range for imshow with RGB data ([0..1] for floats or [0..255] for integers).\n",
      "Clipping input data to the valid range for imshow with RGB data ([0..1] for floats or [0..255] for integers).\n",
      "Clipping input data to the valid range for imshow with RGB data ([0..1] for floats or [0..255] for integers).\n",
      "Clipping input data to the valid range for imshow with RGB data ([0..1] for floats or [0..255] for integers).\n",
      "Clipping input data to the valid range for imshow with RGB data ([0..1] for floats or [0..255] for integers).\n",
      "Clipping input data to the valid range for imshow with RGB data ([0..1] for floats or [0..255] for integers).\n",
      "Clipping input data to the valid range for imshow with RGB data ([0..1] for floats or [0..255] for integers).\n",
      "Clipping input data to the valid range for imshow with RGB data ([0..1] for floats or [0..255] for integers).\n",
      "Clipping input data to the valid range for imshow with RGB data ([0..1] for floats or [0..255] for integers).\n",
      "Clipping input data to the valid range for imshow with RGB data ([0..1] for floats or [0..255] for integers).\n",
      "Clipping input data to the valid range for imshow with RGB data ([0..1] for floats or [0..255] for integers).\n",
      "Clipping input data to the valid range for imshow with RGB data ([0..1] for floats or [0..255] for integers).\n",
      "Clipping input data to the valid range for imshow with RGB data ([0..1] for floats or [0..255] for integers).\n",
      "Clipping input data to the valid range for imshow with RGB data ([0..1] for floats or [0..255] for integers).\n",
      "Clipping input data to the valid range for imshow with RGB data ([0..1] for floats or [0..255] for integers).\n"
     ]
    },
    {
     "name": "stdout",
     "output_type": "stream",
     "text": [
      "\tThe 020th iters, the 040th epoch, loss: 1986.31819\n",
      "\tThe 020th iters, the 080th epoch, loss: 1984.86752\n",
      "\tThe 020th iters, the 120th epoch, loss: 1984.13439\n",
      "\tThe 020th iters, the 160th epoch, loss: 1983.33951\n",
      "\tThe 020th iters, the 200th epoch, loss: 1982.39861\n",
      "\tThe 020th iters, the 240th epoch, loss: 1981.64827\n",
      "\tThe 020th iters, the 280th epoch, loss: 1980.14116\n",
      "s:  tensor([188.8440,  28.6172,  20.3182,  10.8373,   9.3427,   8.6904,   7.4500,\n",
      "          6.7543,   6.5230,   6.3515,   6.0113,   5.8216,   5.4476,   5.3548,\n",
      "          5.2590,   5.2017,   4.9123,   4.8665,   4.8173,   4.6055,   4.4665,\n",
      "          4.3598,   4.3273,   4.2123,   3.4466,   3.3532,   2.9104,   2.8769,\n",
      "          2.8049,   2.7793,   2.6784,   2.6281,   2.5801,   2.4876,   2.4078,\n",
      "          2.3651], device='cuda:0')\n"
     ]
    },
    {
     "name": "stderr",
     "output_type": "stream",
     "text": [
      "Clipping input data to the valid range for imshow with RGB data ([0..1] for floats or [0..255] for integers).\n",
      "Clipping input data to the valid range for imshow with RGB data ([0..1] for floats or [0..255] for integers).\n",
      "Clipping input data to the valid range for imshow with RGB data ([0..1] for floats or [0..255] for integers).\n",
      "Clipping input data to the valid range for imshow with RGB data ([0..1] for floats or [0..255] for integers).\n",
      "Clipping input data to the valid range for imshow with RGB data ([0..1] for floats or [0..255] for integers).\n",
      "Clipping input data to the valid range for imshow with RGB data ([0..1] for floats or [0..255] for integers).\n",
      "Clipping input data to the valid range for imshow with RGB data ([0..1] for floats or [0..255] for integers).\n",
      "Clipping input data to the valid range for imshow with RGB data ([0..1] for floats or [0..255] for integers).\n",
      "Clipping input data to the valid range for imshow with RGB data ([0..1] for floats or [0..255] for integers).\n",
      "Clipping input data to the valid range for imshow with RGB data ([0..1] for floats or [0..255] for integers).\n",
      "Clipping input data to the valid range for imshow with RGB data ([0..1] for floats or [0..255] for integers).\n",
      "Clipping input data to the valid range for imshow with RGB data ([0..1] for floats or [0..255] for integers).\n",
      "Clipping input data to the valid range for imshow with RGB data ([0..1] for floats or [0..255] for integers).\n",
      "Clipping input data to the valid range for imshow with RGB data ([0..1] for floats or [0..255] for integers).\n",
      "Clipping input data to the valid range for imshow with RGB data ([0..1] for floats or [0..255] for integers).\n",
      "Clipping input data to the valid range for imshow with RGB data ([0..1] for floats or [0..255] for integers).\n",
      "Clipping input data to the valid range for imshow with RGB data ([0..1] for floats or [0..255] for integers).\n",
      "Clipping input data to the valid range for imshow with RGB data ([0..1] for floats or [0..255] for integers).\n",
      "Clipping input data to the valid range for imshow with RGB data ([0..1] for floats or [0..255] for integers).\n",
      "Clipping input data to the valid range for imshow with RGB data ([0..1] for floats or [0..255] for integers).\n",
      "Clipping input data to the valid range for imshow with RGB data ([0..1] for floats or [0..255] for integers).\n",
      "Clipping input data to the valid range for imshow with RGB data ([0..1] for floats or [0..255] for integers).\n",
      "Clipping input data to the valid range for imshow with RGB data ([0..1] for floats or [0..255] for integers).\n",
      "Clipping input data to the valid range for imshow with RGB data ([0..1] for floats or [0..255] for integers).\n",
      "C:\\Users\\Administrator\\AppData\\Local\\Temp\\ipykernel_4760\\377037867.py:239: RuntimeWarning: More than 20 figures have been opened. Figures created through the pyplot interface (`matplotlib.pyplot.figure`) are retained until explicitly closed and may consume too much memory. (To control this warning, see the rcParam `figure.max_open_warning`).\n",
      "  plt.figure(figsize=(30, 60))\n"
     ]
    },
    {
     "name": "stdout",
     "output_type": "stream",
     "text": [
      "\tThe 021th iters, the 040th epoch, loss: 2055.31366\n",
      "\tThe 021th iters, the 080th epoch, loss: 2053.63902\n",
      "\tThe 021th iters, the 120th epoch, loss: 2052.95573\n",
      "\tThe 021th iters, the 160th epoch, loss: 2052.18884\n",
      "\tThe 021th iters, the 200th epoch, loss: 2051.24806\n",
      "\tThe 021th iters, the 240th epoch, loss: 2050.13427\n",
      "\tThe 021th iters, the 280th epoch, loss: 2048.82413\n",
      "s:  tensor([186.9566,  29.0986,  20.1637,  10.7269,   9.0681,   8.5627,   7.2550,\n",
      "          6.6106,   6.3282,   6.1820,   5.8782,   5.6818,   5.3202,   5.2648,\n",
      "          5.1998,   5.0543,   4.7882,   4.7402,   4.7289,   4.5323,   4.3840,\n",
      "          4.3085,   4.2140,   4.1393,   3.3692,   3.2930,   2.8413,   2.7700,\n",
      "          2.7617,   2.6763,   2.5993,   2.5635,   2.5241,   2.4275,   2.3375,\n",
      "          2.3129], device='cuda:0')\n"
     ]
    },
    {
     "name": "stderr",
     "output_type": "stream",
     "text": [
      "C:\\Users\\Administrator\\AppData\\Local\\Temp\\ipykernel_4760\\377037867.py:202: RuntimeWarning: More than 20 figures have been opened. Figures created through the pyplot interface (`matplotlib.pyplot.figure`) are retained until explicitly closed and may consume too much memory. (To control this warning, see the rcParam `figure.max_open_warning`).\n",
      "  plt.figure(figsize=(20, 20))\n",
      "Clipping input data to the valid range for imshow with RGB data ([0..1] for floats or [0..255] for integers).\n",
      "Clipping input data to the valid range for imshow with RGB data ([0..1] for floats or [0..255] for integers).\n",
      "Clipping input data to the valid range for imshow with RGB data ([0..1] for floats or [0..255] for integers).\n",
      "Clipping input data to the valid range for imshow with RGB data ([0..1] for floats or [0..255] for integers).\n",
      "Clipping input data to the valid range for imshow with RGB data ([0..1] for floats or [0..255] for integers).\n",
      "Clipping input data to the valid range for imshow with RGB data ([0..1] for floats or [0..255] for integers).\n",
      "Clipping input data to the valid range for imshow with RGB data ([0..1] for floats or [0..255] for integers).\n",
      "Clipping input data to the valid range for imshow with RGB data ([0..1] for floats or [0..255] for integers).\n",
      "Clipping input data to the valid range for imshow with RGB data ([0..1] for floats or [0..255] for integers).\n",
      "Clipping input data to the valid range for imshow with RGB data ([0..1] for floats or [0..255] for integers).\n",
      "Clipping input data to the valid range for imshow with RGB data ([0..1] for floats or [0..255] for integers).\n",
      "Clipping input data to the valid range for imshow with RGB data ([0..1] for floats or [0..255] for integers).\n",
      "Clipping input data to the valid range for imshow with RGB data ([0..1] for floats or [0..255] for integers).\n",
      "Clipping input data to the valid range for imshow with RGB data ([0..1] for floats or [0..255] for integers).\n",
      "Clipping input data to the valid range for imshow with RGB data ([0..1] for floats or [0..255] for integers).\n",
      "Clipping input data to the valid range for imshow with RGB data ([0..1] for floats or [0..255] for integers).\n",
      "Clipping input data to the valid range for imshow with RGB data ([0..1] for floats or [0..255] for integers).\n",
      "Clipping input data to the valid range for imshow with RGB data ([0..1] for floats or [0..255] for integers).\n",
      "Clipping input data to the valid range for imshow with RGB data ([0..1] for floats or [0..255] for integers).\n",
      "Clipping input data to the valid range for imshow with RGB data ([0..1] for floats or [0..255] for integers).\n",
      "Clipping input data to the valid range for imshow with RGB data ([0..1] for floats or [0..255] for integers).\n",
      "Clipping input data to the valid range for imshow with RGB data ([0..1] for floats or [0..255] for integers).\n",
      "Clipping input data to the valid range for imshow with RGB data ([0..1] for floats or [0..255] for integers).\n",
      "Clipping input data to the valid range for imshow with RGB data ([0..1] for floats or [0..255] for integers).\n"
     ]
    },
    {
     "name": "stdout",
     "output_type": "stream",
     "text": [
      "\tThe 022th iters, the 040th epoch, loss: 2114.55692\n",
      "\tThe 022th iters, the 080th epoch, loss: 2112.85820\n",
      "\tThe 022th iters, the 120th epoch, loss: 2112.11059\n",
      "\tThe 022th iters, the 160th epoch, loss: 2111.29515\n",
      "\tThe 022th iters, the 200th epoch, loss: 2110.38088\n",
      "\tThe 022th iters, the 240th epoch, loss: 2110.13540\n",
      "\tThe 022th iters, the 280th epoch, loss: 2108.08958\n",
      "s:  tensor([185.7961,  29.2944,  20.0373,  10.5150,   8.9126,   8.4158,   7.2011,\n",
      "          6.5550,   6.2517,   6.0086,   5.7805,   5.5681,   5.2079,   5.1708,\n",
      "          5.1093,   4.9271,   4.7321,   4.6776,   4.6365,   4.4810,   4.3166,\n",
      "          4.2909,   4.0947,   4.0771,   3.2926,   3.2298,   2.7655,   2.7138,\n",
      "          2.6516,   2.5934,   2.5145,   2.4948,   2.4553,   2.3678,   2.2786,\n",
      "          2.2601], device='cuda:0')\n"
     ]
    },
    {
     "name": "stderr",
     "output_type": "stream",
     "text": [
      "Clipping input data to the valid range for imshow with RGB data ([0..1] for floats or [0..255] for integers).\n",
      "Clipping input data to the valid range for imshow with RGB data ([0..1] for floats or [0..255] for integers).\n",
      "Clipping input data to the valid range for imshow with RGB data ([0..1] for floats or [0..255] for integers).\n",
      "Clipping input data to the valid range for imshow with RGB data ([0..1] for floats or [0..255] for integers).\n",
      "Clipping input data to the valid range for imshow with RGB data ([0..1] for floats or [0..255] for integers).\n",
      "Clipping input data to the valid range for imshow with RGB data ([0..1] for floats or [0..255] for integers).\n",
      "Clipping input data to the valid range for imshow with RGB data ([0..1] for floats or [0..255] for integers).\n",
      "Clipping input data to the valid range for imshow with RGB data ([0..1] for floats or [0..255] for integers).\n",
      "Clipping input data to the valid range for imshow with RGB data ([0..1] for floats or [0..255] for integers).\n",
      "Clipping input data to the valid range for imshow with RGB data ([0..1] for floats or [0..255] for integers).\n",
      "Clipping input data to the valid range for imshow with RGB data ([0..1] for floats or [0..255] for integers).\n",
      "Clipping input data to the valid range for imshow with RGB data ([0..1] for floats or [0..255] for integers).\n",
      "Clipping input data to the valid range for imshow with RGB data ([0..1] for floats or [0..255] for integers).\n",
      "Clipping input data to the valid range for imshow with RGB data ([0..1] for floats or [0..255] for integers).\n",
      "Clipping input data to the valid range for imshow with RGB data ([0..1] for floats or [0..255] for integers).\n",
      "Clipping input data to the valid range for imshow with RGB data ([0..1] for floats or [0..255] for integers).\n",
      "Clipping input data to the valid range for imshow with RGB data ([0..1] for floats or [0..255] for integers).\n",
      "Clipping input data to the valid range for imshow with RGB data ([0..1] for floats or [0..255] for integers).\n",
      "Clipping input data to the valid range for imshow with RGB data ([0..1] for floats or [0..255] for integers).\n",
      "Clipping input data to the valid range for imshow with RGB data ([0..1] for floats or [0..255] for integers).\n",
      "Clipping input data to the valid range for imshow with RGB data ([0..1] for floats or [0..255] for integers).\n",
      "Clipping input data to the valid range for imshow with RGB data ([0..1] for floats or [0..255] for integers).\n",
      "Clipping input data to the valid range for imshow with RGB data ([0..1] for floats or [0..255] for integers).\n",
      "Clipping input data to the valid range for imshow with RGB data ([0..1] for floats or [0..255] for integers).\n"
     ]
    },
    {
     "name": "stdout",
     "output_type": "stream",
     "text": [
      "\tThe 023th iters, the 040th epoch, loss: 2077.45521\n",
      "\tThe 023th iters, the 080th epoch, loss: 2076.24005\n",
      "\tThe 023th iters, the 120th epoch, loss: 2075.66585\n",
      "\tThe 023th iters, the 160th epoch, loss: 2075.02276\n",
      "\tThe 023th iters, the 200th epoch, loss: 2074.32961\n",
      "\tThe 023th iters, the 240th epoch, loss: 2073.45104\n",
      "\tThe 023th iters, the 280th epoch, loss: 2072.56272\n",
      "s:  tensor([185.0915,  29.1682,  19.8711,  10.4084,   8.7412,   8.2420,   7.0581,\n",
      "          6.4819,   6.1663,   5.8061,   5.6849,   5.4099,   5.1302,   5.0921,\n",
      "          4.9350,   4.7707,   4.6623,   4.5746,   4.5209,   4.4180,   4.2315,\n",
      "          4.2101,   4.0291,   3.9655,   3.2311,   3.1528,   2.6906,   2.6527,\n",
      "          2.5581,   2.5193,   2.4269,   2.4254,   2.3805,   2.3009,   2.2300,\n",
      "          2.2110], device='cuda:0')\n"
     ]
    },
    {
     "name": "stderr",
     "output_type": "stream",
     "text": [
      "Clipping input data to the valid range for imshow with RGB data ([0..1] for floats or [0..255] for integers).\n",
      "Clipping input data to the valid range for imshow with RGB data ([0..1] for floats or [0..255] for integers).\n",
      "Clipping input data to the valid range for imshow with RGB data ([0..1] for floats or [0..255] for integers).\n",
      "Clipping input data to the valid range for imshow with RGB data ([0..1] for floats or [0..255] for integers).\n",
      "Clipping input data to the valid range for imshow with RGB data ([0..1] for floats or [0..255] for integers).\n",
      "Clipping input data to the valid range for imshow with RGB data ([0..1] for floats or [0..255] for integers).\n",
      "Clipping input data to the valid range for imshow with RGB data ([0..1] for floats or [0..255] for integers).\n",
      "Clipping input data to the valid range for imshow with RGB data ([0..1] for floats or [0..255] for integers).\n",
      "Clipping input data to the valid range for imshow with RGB data ([0..1] for floats or [0..255] for integers).\n",
      "Clipping input data to the valid range for imshow with RGB data ([0..1] for floats or [0..255] for integers).\n",
      "Clipping input data to the valid range for imshow with RGB data ([0..1] for floats or [0..255] for integers).\n",
      "Clipping input data to the valid range for imshow with RGB data ([0..1] for floats or [0..255] for integers).\n",
      "Clipping input data to the valid range for imshow with RGB data ([0..1] for floats or [0..255] for integers).\n",
      "Clipping input data to the valid range for imshow with RGB data ([0..1] for floats or [0..255] for integers).\n",
      "Clipping input data to the valid range for imshow with RGB data ([0..1] for floats or [0..255] for integers).\n",
      "Clipping input data to the valid range for imshow with RGB data ([0..1] for floats or [0..255] for integers).\n",
      "Clipping input data to the valid range for imshow with RGB data ([0..1] for floats or [0..255] for integers).\n",
      "Clipping input data to the valid range for imshow with RGB data ([0..1] for floats or [0..255] for integers).\n",
      "Clipping input data to the valid range for imshow with RGB data ([0..1] for floats or [0..255] for integers).\n",
      "Clipping input data to the valid range for imshow with RGB data ([0..1] for floats or [0..255] for integers).\n",
      "Clipping input data to the valid range for imshow with RGB data ([0..1] for floats or [0..255] for integers).\n",
      "Clipping input data to the valid range for imshow with RGB data ([0..1] for floats or [0..255] for integers).\n",
      "Clipping input data to the valid range for imshow with RGB data ([0..1] for floats or [0..255] for integers).\n",
      "Clipping input data to the valid range for imshow with RGB data ([0..1] for floats or [0..255] for integers).\n"
     ]
    },
    {
     "name": "stdout",
     "output_type": "stream",
     "text": [
      "\tThe 024th iters, the 040th epoch, loss: 2078.97746\n",
      "\tThe 024th iters, the 080th epoch, loss: 2077.76643\n",
      "\tThe 024th iters, the 120th epoch, loss: 2077.28429\n",
      "\tThe 024th iters, the 160th epoch, loss: 2076.77201\n"
     ]
    },
    {
     "ename": "KeyboardInterrupt",
     "evalue": "",
     "output_type": "error",
     "traceback": [
      "\u001b[1;31m---------------------------------------------------------------------------\u001b[0m",
      "\u001b[1;31mKeyboardInterrupt\u001b[0m                         Traceback (most recent call last)",
      "Cell \u001b[1;32mIn [1], line 145\u001b[0m\n\u001b[0;32m    143\u001b[0m loss \u001b[39m=\u001b[39m loss1 \u001b[39m+\u001b[39m loss2\n\u001b[0;32m    144\u001b[0m loss\u001b[39m.\u001b[39mbackward()\n\u001b[1;32m--> 145\u001b[0m optimizer\u001b[39m.\u001b[39;49mstep()\n\u001b[0;32m    146\u001b[0m \u001b[39m# scheduler.step()\u001b[39;00m\n\u001b[0;32m    147\u001b[0m loss_history\u001b[39m.\u001b[39mappend(loss\u001b[39m.\u001b[39mitem())\n",
      "File \u001b[1;32md:\\development\\anaconda\\envs\\deep-todo\\lib\\site-packages\\torch\\optim\\optimizer.py:140\u001b[0m, in \u001b[0;36mOptimizer._hook_for_profile.<locals>.profile_hook_step.<locals>.wrapper\u001b[1;34m(*args, **kwargs)\u001b[0m\n\u001b[0;32m    138\u001b[0m profile_name \u001b[39m=\u001b[39m \u001b[39m\"\u001b[39m\u001b[39mOptimizer.step#\u001b[39m\u001b[39m{}\u001b[39;00m\u001b[39m.step\u001b[39m\u001b[39m\"\u001b[39m\u001b[39m.\u001b[39mformat(obj\u001b[39m.\u001b[39m\u001b[39m__class__\u001b[39m\u001b[39m.\u001b[39m\u001b[39m__name__\u001b[39m)\n\u001b[0;32m    139\u001b[0m \u001b[39mwith\u001b[39;00m torch\u001b[39m.\u001b[39mautograd\u001b[39m.\u001b[39mprofiler\u001b[39m.\u001b[39mrecord_function(profile_name):\n\u001b[1;32m--> 140\u001b[0m     out \u001b[39m=\u001b[39m func(\u001b[39m*\u001b[39margs, \u001b[39m*\u001b[39m\u001b[39m*\u001b[39mkwargs)\n\u001b[0;32m    141\u001b[0m     obj\u001b[39m.\u001b[39m_optimizer_step_code()\n\u001b[0;32m    142\u001b[0m     \u001b[39mreturn\u001b[39;00m out\n",
      "File \u001b[1;32md:\\development\\anaconda\\envs\\deep-todo\\lib\\site-packages\\torch\\optim\\optimizer.py:23\u001b[0m, in \u001b[0;36m_use_grad_for_differentiable.<locals>._use_grad\u001b[1;34m(self, *args, **kwargs)\u001b[0m\n\u001b[0;32m     21\u001b[0m \u001b[39mtry\u001b[39;00m:\n\u001b[0;32m     22\u001b[0m     torch\u001b[39m.\u001b[39mset_grad_enabled(\u001b[39mself\u001b[39m\u001b[39m.\u001b[39mdefaults[\u001b[39m'\u001b[39m\u001b[39mdifferentiable\u001b[39m\u001b[39m'\u001b[39m])\n\u001b[1;32m---> 23\u001b[0m     ret \u001b[39m=\u001b[39m func(\u001b[39mself\u001b[39m, \u001b[39m*\u001b[39margs, \u001b[39m*\u001b[39m\u001b[39m*\u001b[39mkwargs)\n\u001b[0;32m     24\u001b[0m \u001b[39mfinally\u001b[39;00m:\n\u001b[0;32m     25\u001b[0m     torch\u001b[39m.\u001b[39mset_grad_enabled(prev_grad)\n",
      "File \u001b[1;32md:\\development\\anaconda\\envs\\deep-todo\\lib\\site-packages\\torch\\optim\\adam.py:234\u001b[0m, in \u001b[0;36mAdam.step\u001b[1;34m(self, closure, grad_scaler)\u001b[0m\n\u001b[0;32m    231\u001b[0m                 \u001b[39mraise\u001b[39;00m \u001b[39mRuntimeError\u001b[39;00m(\u001b[39m'\u001b[39m\u001b[39m`requires_grad` is not supported for `step` in differentiable mode\u001b[39m\u001b[39m'\u001b[39m)\n\u001b[0;32m    232\u001b[0m             state_steps\u001b[39m.\u001b[39mappend(state[\u001b[39m'\u001b[39m\u001b[39mstep\u001b[39m\u001b[39m'\u001b[39m])\n\u001b[1;32m--> 234\u001b[0m     adam(params_with_grad,\n\u001b[0;32m    235\u001b[0m          grads,\n\u001b[0;32m    236\u001b[0m          exp_avgs,\n\u001b[0;32m    237\u001b[0m          exp_avg_sqs,\n\u001b[0;32m    238\u001b[0m          max_exp_avg_sqs,\n\u001b[0;32m    239\u001b[0m          state_steps,\n\u001b[0;32m    240\u001b[0m          amsgrad\u001b[39m=\u001b[39;49mgroup[\u001b[39m'\u001b[39;49m\u001b[39mamsgrad\u001b[39;49m\u001b[39m'\u001b[39;49m],\n\u001b[0;32m    241\u001b[0m          beta1\u001b[39m=\u001b[39;49mbeta1,\n\u001b[0;32m    242\u001b[0m          beta2\u001b[39m=\u001b[39;49mbeta2,\n\u001b[0;32m    243\u001b[0m          lr\u001b[39m=\u001b[39;49mgroup[\u001b[39m'\u001b[39;49m\u001b[39mlr\u001b[39;49m\u001b[39m'\u001b[39;49m],\n\u001b[0;32m    244\u001b[0m          weight_decay\u001b[39m=\u001b[39;49mgroup[\u001b[39m'\u001b[39;49m\u001b[39mweight_decay\u001b[39;49m\u001b[39m'\u001b[39;49m],\n\u001b[0;32m    245\u001b[0m          eps\u001b[39m=\u001b[39;49mgroup[\u001b[39m'\u001b[39;49m\u001b[39meps\u001b[39;49m\u001b[39m'\u001b[39;49m],\n\u001b[0;32m    246\u001b[0m          maximize\u001b[39m=\u001b[39;49mgroup[\u001b[39m'\u001b[39;49m\u001b[39mmaximize\u001b[39;49m\u001b[39m'\u001b[39;49m],\n\u001b[0;32m    247\u001b[0m          foreach\u001b[39m=\u001b[39;49mgroup[\u001b[39m'\u001b[39;49m\u001b[39mforeach\u001b[39;49m\u001b[39m'\u001b[39;49m],\n\u001b[0;32m    248\u001b[0m          capturable\u001b[39m=\u001b[39;49mgroup[\u001b[39m'\u001b[39;49m\u001b[39mcapturable\u001b[39;49m\u001b[39m'\u001b[39;49m],\n\u001b[0;32m    249\u001b[0m          differentiable\u001b[39m=\u001b[39;49mgroup[\u001b[39m'\u001b[39;49m\u001b[39mdifferentiable\u001b[39;49m\u001b[39m'\u001b[39;49m],\n\u001b[0;32m    250\u001b[0m          fused\u001b[39m=\u001b[39;49mgroup[\u001b[39m'\u001b[39;49m\u001b[39mfused\u001b[39;49m\u001b[39m'\u001b[39;49m],\n\u001b[0;32m    251\u001b[0m          grad_scale\u001b[39m=\u001b[39;49mgrad_scale,\n\u001b[0;32m    252\u001b[0m          found_inf\u001b[39m=\u001b[39;49mfound_inf)\n\u001b[0;32m    254\u001b[0m \u001b[39mreturn\u001b[39;00m loss\n",
      "File \u001b[1;32md:\\development\\anaconda\\envs\\deep-todo\\lib\\site-packages\\torch\\optim\\adam.py:300\u001b[0m, in \u001b[0;36madam\u001b[1;34m(params, grads, exp_avgs, exp_avg_sqs, max_exp_avg_sqs, state_steps, foreach, capturable, differentiable, fused, grad_scale, found_inf, amsgrad, beta1, beta2, lr, weight_decay, eps, maximize)\u001b[0m\n\u001b[0;32m    297\u001b[0m \u001b[39melse\u001b[39;00m:\n\u001b[0;32m    298\u001b[0m     func \u001b[39m=\u001b[39m _single_tensor_adam\n\u001b[1;32m--> 300\u001b[0m func(params,\n\u001b[0;32m    301\u001b[0m      grads,\n\u001b[0;32m    302\u001b[0m      exp_avgs,\n\u001b[0;32m    303\u001b[0m      exp_avg_sqs,\n\u001b[0;32m    304\u001b[0m      max_exp_avg_sqs,\n\u001b[0;32m    305\u001b[0m      state_steps,\n\u001b[0;32m    306\u001b[0m      amsgrad\u001b[39m=\u001b[39;49mamsgrad,\n\u001b[0;32m    307\u001b[0m      beta1\u001b[39m=\u001b[39;49mbeta1,\n\u001b[0;32m    308\u001b[0m      beta2\u001b[39m=\u001b[39;49mbeta2,\n\u001b[0;32m    309\u001b[0m      lr\u001b[39m=\u001b[39;49mlr,\n\u001b[0;32m    310\u001b[0m      weight_decay\u001b[39m=\u001b[39;49mweight_decay,\n\u001b[0;32m    311\u001b[0m      eps\u001b[39m=\u001b[39;49meps,\n\u001b[0;32m    312\u001b[0m      maximize\u001b[39m=\u001b[39;49mmaximize,\n\u001b[0;32m    313\u001b[0m      capturable\u001b[39m=\u001b[39;49mcapturable,\n\u001b[0;32m    314\u001b[0m      differentiable\u001b[39m=\u001b[39;49mdifferentiable,\n\u001b[0;32m    315\u001b[0m      grad_scale\u001b[39m=\u001b[39;49mgrad_scale,\n\u001b[0;32m    316\u001b[0m      found_inf\u001b[39m=\u001b[39;49mfound_inf)\n",
      "File \u001b[1;32md:\\development\\anaconda\\envs\\deep-todo\\lib\\site-packages\\torch\\optim\\adam.py:412\u001b[0m, in \u001b[0;36m_single_tensor_adam\u001b[1;34m(params, grads, exp_avgs, exp_avg_sqs, max_exp_avg_sqs, state_steps, grad_scale, found_inf, amsgrad, beta1, beta2, lr, weight_decay, eps, maximize, capturable, differentiable)\u001b[0m\n\u001b[0;32m    409\u001b[0m \u001b[39melse\u001b[39;00m:\n\u001b[0;32m    410\u001b[0m     denom \u001b[39m=\u001b[39m (exp_avg_sq\u001b[39m.\u001b[39msqrt() \u001b[39m/\u001b[39m bias_correction2_sqrt)\u001b[39m.\u001b[39madd_(eps)\n\u001b[1;32m--> 412\u001b[0m param\u001b[39m.\u001b[39;49maddcdiv_(exp_avg, denom, value\u001b[39m=\u001b[39;49m\u001b[39m-\u001b[39;49mstep_size)\n",
      "\u001b[1;31mKeyboardInterrupt\u001b[0m: "
     ]
    },
    {
     "data": {
      "text/plain": [
       "<Figure size 2000x2000 with 0 Axes>"
      ]
     },
     "metadata": {},
     "output_type": "display_data"
    },
    {
     "data": {
      "text/plain": [
       "<Figure size 2000x2000 with 0 Axes>"
      ]
     },
     "metadata": {},
     "output_type": "display_data"
    },
    {
     "data": {
      "text/plain": [
       "<Figure size 2000x2000 with 0 Axes>"
      ]
     },
     "metadata": {},
     "output_type": "display_data"
    },
    {
     "data": {
      "text/plain": [
       "<Figure size 2000x2000 with 0 Axes>"
      ]
     },
     "metadata": {},
     "output_type": "display_data"
    },
    {
     "data": {
      "text/plain": [
       "<Figure size 2000x2000 with 0 Axes>"
      ]
     },
     "metadata": {},
     "output_type": "display_data"
    },
    {
     "data": {
      "text/plain": [
       "<Figure size 2000x2000 with 0 Axes>"
      ]
     },
     "metadata": {},
     "output_type": "display_data"
    },
    {
     "data": {
      "text/plain": [
       "<Figure size 2000x2000 with 0 Axes>"
      ]
     },
     "metadata": {},
     "output_type": "display_data"
    },
    {
     "data": {
      "text/plain": [
       "<Figure size 2000x2000 with 0 Axes>"
      ]
     },
     "metadata": {},
     "output_type": "display_data"
    },
    {
     "data": {
      "text/plain": [
       "<Figure size 2000x2000 with 0 Axes>"
      ]
     },
     "metadata": {},
     "output_type": "display_data"
    },
    {
     "data": {
      "text/plain": [
       "<Figure size 2000x2000 with 0 Axes>"
      ]
     },
     "metadata": {},
     "output_type": "display_data"
    },
    {
     "data": {
      "text/plain": [
       "<Figure size 2000x2000 with 0 Axes>"
      ]
     },
     "metadata": {},
     "output_type": "display_data"
    },
    {
     "data": {
      "text/plain": [
       "<Figure size 2000x2000 with 0 Axes>"
      ]
     },
     "metadata": {},
     "output_type": "display_data"
    },
    {
     "data": {
      "text/plain": [
       "<Figure size 2000x2000 with 0 Axes>"
      ]
     },
     "metadata": {},
     "output_type": "display_data"
    },
    {
     "data": {
      "text/plain": [
       "<Figure size 2000x2000 with 0 Axes>"
      ]
     },
     "metadata": {},
     "output_type": "display_data"
    },
    {
     "data": {
      "text/plain": [
       "<Figure size 2000x2000 with 0 Axes>"
      ]
     },
     "metadata": {},
     "output_type": "display_data"
    },
    {
     "data": {
      "text/plain": [
       "<Figure size 2000x2000 with 0 Axes>"
      ]
     },
     "metadata": {},
     "output_type": "display_data"
    },
    {
     "data": {
      "text/plain": [
       "<Figure size 2000x2000 with 0 Axes>"
      ]
     },
     "metadata": {},
     "output_type": "display_data"
    },
    {
     "data": {
      "text/plain": [
       "<Figure size 2000x2000 with 0 Axes>"
      ]
     },
     "metadata": {},
     "output_type": "display_data"
    },
    {
     "data": {
      "text/plain": [
       "<Figure size 2000x2000 with 0 Axes>"
      ]
     },
     "metadata": {},
     "output_type": "display_data"
    },
    {
     "data": {
      "text/plain": [
       "<Figure size 2000x2000 with 0 Axes>"
      ]
     },
     "metadata": {},
     "output_type": "display_data"
    },
    {
     "data": {
      "text/plain": [
       "<Figure size 2000x2000 with 0 Axes>"
      ]
     },
     "metadata": {},
     "output_type": "display_data"
    },
    {
     "data": {
      "text/plain": [
       "<Figure size 2000x2000 with 0 Axes>"
      ]
     },
     "metadata": {},
     "output_type": "display_data"
    },
    {
     "data": {
      "text/plain": [
       "<Figure size 2000x2000 with 0 Axes>"
      ]
     },
     "metadata": {},
     "output_type": "display_data"
    }
   ],
   "source": [
    "from __future__ import print_function\n",
    "\n",
    "import os\n",
    "import mat73\n",
    "import numpy as np\n",
    "import matplotlib.pyplot as plt\n",
    "import scipy.io as scio\n",
    "import torch\n",
    "import torch.optim\n",
    "from skimage.metrics import peak_signal_noise_ratio as compare_psnr\n",
    "from skimage.metrics import structural_similarity as compare_ssim\n",
    "\n",
    "from architecture import MST\n",
    "torch.cuda.manual_seed(seed=666)\n",
    "torch.backends.cudnn.enabled = True\n",
    "torch.backends.cudnn.benchmark = True\n",
    "dtype = torch.cuda.FloatTensor\n",
    "device = torch.device('cuda')\n",
    "torch.cuda.manual_seed(seed=666)\n",
    "\n",
    "\n",
    "########################################### 辅助函数 ###########################################\n",
    "def thres_21(L, tau, M, N, B):\n",
    "    S = torch.sqrt(torch.sum(torch.mul(L, L), 2))\n",
    "    S[S == 0] = 1\n",
    "    T = 1 - tau / S\n",
    "    T[T < 0] = 0\n",
    "    R = T.reshape(M, N, 1).repeat((1, 1, B))\n",
    "    res = torch.mul(R, L)\n",
    "    return res\n",
    "\n",
    "\n",
    "################################ 读取数据 ################################\n",
    "YY= mat73.loadmat(\"./Data/T31UDQ/T31UDQ_20m_raw1.mat\")['T31UDQ_20m_raw1'] \n",
    "YY = np.double(YY)\n",
    "YY = YY/YY.max()\n",
    "\n",
    "Mask2_500 = mat73.loadmat(\"./Data/Mask2_500.mat\")['Mask2_500']\n",
    "Mask_Out_500 = mat73.loadmat(\"./Data/Mask_Out_500.mat\")[\"Mask_Out_500\"]\n",
    "Mask_Shd = mat73.loadmat(\"./Data/Mask_Shd.mat\")[\"Mask_Shd\"]\n",
    "Mask_shad = mat73.loadmat(\"./Data/Mask_shad.mat\")[\"Mask_shad\"]\n",
    "Mask = np.copy(Mask2_500)\n",
    "Mask[ Mask != 0 ] = 1\n",
    "# Test1_Clean是干净图像，取的是4，2，0三个时相\n",
    "Test1_Clean = np.copy(YY[:, :, :, [4, 2, 0]])\n",
    "\n",
    "# 生成云图YY，含有6个时相\n",
    "Clean = YY[:, :, :, [4, 2, 0, 5, 3, 1]]\n",
    "YY = np.multiply((1 - Mask), (YY[:, :, :, [4, 2, 0, 5, 3, 1]])) + Mask\n",
    "YY = np.multiply((1 - Mask_Out_500),  YY) + Mask_Out_500\n",
    "YY = np.multiply(YY, (1 - Mask_Shd) ) - Mask_Shd\n",
    "YY = np.multiply(YY, (1 - Mask_shad) ) - Mask_shad\n",
    "Noisy = np.copy(YY)\n",
    "Cloud = np.copy(Mask)\n",
    "Mask = 1 - Cloud\n",
    "###########################################################################\n",
    "\n",
    "M, N, B, T = Noisy.shape\n",
    "Clean = torch.from_numpy(Clean.reshape(M, N, B, T)).to(device)\n",
    "Mask = torch.from_numpy(Mask.reshape(M, N, B, T)).to(device)  # 云=0\n",
    "Cloud = torch.from_numpy(Cloud.reshape(M, N, B, T)).to(device)  # 云=1\n",
    "Noisy = torch.from_numpy(Noisy.reshape(M, N, B, T)).to(device)\n",
    "\n",
    "\n",
    "################################ 全局设置 ################################\n",
    "def grid_combine(args_list):\n",
    "    for rate in args_list[0]:\n",
    "        for lambda2 in args_list[1]:\n",
    "            for rho in args_list[2]:\n",
    "                for alpha in args_list[3]:\n",
    "                    if rate == 125 and rho ==0.08 and alpha==1.03 :\n",
    "                        continue\n",
    "                    yield rate, lambda2, rho, alpha\n",
    "args_list = [\n",
    "    [125, 100],  # rate\n",
    "    [0.1],  # lambda2\n",
    "    [0.08, 0.06, 0.04],  # rho\n",
    "    [1.03, 1.025]  # alpha\n",
    "]\n",
    "condidates = [\n",
    "    # lambda1, lambda2, rho\n",
    "    # [6.0, 0.1, 0.12, 1.03]     # condidate2\n",
    "    # [12.5, 0.1, 0.1], \n",
    "    # [10.0, 0.1, 0.1], \n",
    "    # [7.50, 0.1, 0.1],  \n",
    "    # [10.0, 0.2, 0.1], \n",
    "    # [10.0, 0.4, 0.1], \n",
    "]\n",
    "condidates = [\n",
    "    # rate, lambda2, rho, alpha\n",
    "    # [90, 0.06, 0.06, 1.03],\n",
    "    [90, 0.08, 0.08, 1.03],\n",
    "    [88, 0.06, 0.08, 1.03],\n",
    "    [90, 0.08, 0.08, 1.03],\n",
    "]\n",
    "iter_num, epoch_num = 200, 300\n",
    "order = 15\n",
    "for rate, lambda2, rho, alpha in condidates:\n",
    "# for rate, lambda2, rho, alpha in grid_combine(args_list):\n",
    "    # rate = lambda1 / rho\n",
    "    lambda1 = rate * rho\n",
    "    iters = 0\n",
    "    order += 1\n",
    "    log_dir = \"./log-candidates-picardie/order[%03d]-iter[%3d]-epoch[%3d]-rate[%.3f]-lambda2[%.3f]-rho[%.3f,%.3f]\" \\\n",
    "              % (order, iter_num, epoch_num, rate, lambda2, rho, alpha)\n",
    "    if not os.path.exists(log_dir):\n",
    "        os.makedirs(log_dir)\n",
    "    else:\n",
    "        continue\n",
    "    # rate, lambda2, rho, alpha = 125, 0.1, 0.08, 1.04\n",
    "    ################################ 初始化 ################################\n",
    "    Y = Noisy.clone()\n",
    "    X = Noisy.clone()\n",
    "    W = Noisy.clone()\n",
    "    C = torch.zeros(Y.shape).type(dtype).to(device)\n",
    "    M_updata = Mask.clone()\n",
    "    model = MST(dim=B*T, stage=2, num_blocks=[2, 2, 2]).cuda()\n",
    "    psnr = 0\n",
    "    s0_min = 10000\n",
    "    ################################ 子问题更新 ################################\n",
    "    while iters < iter_num:\n",
    "        # if iters >= 100 and psnr < 32:\n",
    "        #     break\n",
    "        iters += 1\n",
    "        ################################ 更新子问题X ################################\n",
    "        # if decrease and (iters % 4 == 0) and LR > 0.00001:\n",
    "        #     LR *= 0.9\n",
    "        LR = 0.0002\n",
    "        optimizer = torch.optim.Adam(model.parameters(), lr=LR, betas=(0.9, 0.999))\n",
    "        # scheduler = torch.optim.lr_scheduler.MultiStepLR(optimizer, [250], gamma=0.7, last_epoch=-1)\n",
    "        loss_history, loss1_history, loss2_history = [], [], []\n",
    "        epoch = 0\n",
    "        net_input = torch.permute(X, [2, 3, 0, 1]).reshape(1, B * T, M, N).type(dtype).to(device)\n",
    "        while epoch < epoch_num:\n",
    "            epoch += 1\n",
    "            optimizer.zero_grad()\n",
    "            # X: M, N, B, T\n",
    "            Mask_temp = torch.permute(M_updata, [2, 3, 1, 0]).reshape(1, B*T, M, N).type(dtype).to(device)\n",
    "            out = model(net_input, Mask_temp)\n",
    "            X = torch.permute(out.reshape(B, T, M, N), [2, 3, 0, 1])\n",
    "            loss1 = 1 / 2 * torch.norm(Y - torch.mul(X, M_updata) - C, 'fro') ** 2\n",
    "            loss2 = rho / 2 * torch.norm(X - W, 'fro') ** 2\n",
    "            loss = loss1 + loss2\n",
    "            loss.backward()\n",
    "            optimizer.step()\n",
    "            # scheduler.step()\n",
    "            loss_history.append(loss.item())\n",
    "            loss1_history.append(loss1.item())\n",
    "            loss2_history.append(loss2.item())\n",
    "            if epoch % 40 == 0:\n",
    "                print(\"\\tThe %03dth iters, the %03dth epoch, loss: %.5f\" % (iters, epoch, loss.item()))\n",
    "            Y, C, W, X = Y.detach(), C.detach(), W.detach(), X.detach()\n",
    "\n",
    "        Y, C, W, X = Y.detach(), C.detach(), W.detach(), X.detach()\n",
    "\n",
    "        ################################ 更新子问题W ################################\n",
    "        U, s, VH = torch.linalg.svd(X.reshape(M * N, B * T), full_matrices=False)  # B*T, M*N\n",
    "        s0 = s[0]\n",
    "        rho *= alpha\n",
    "        # if s0<s0_min: # s0处于不断下降的第一阶段\n",
    "        #     s0_min = s0\n",
    "        #     rho *= alpha\n",
    "        # else:\n",
    "        #     rho *= 1.02\n",
    "        rate = lambda1 / rho\n",
    "        print(\"s: \", s)\n",
    "        s = s - lambda1 / rho\n",
    "        s[s < 0] = 0\n",
    "        S = torch.diag(s)\n",
    "        W = torch.mm(torch.mm(U, S), VH).reshape(M, N, B, T)\n",
    "        ################################ 更新子问题C ################################\n",
    "        L = Y - torch.mul(X, M_updata)\n",
    "        for t in range(T):\n",
    "            C[:, :, :, t] = thres_21(L[:, :, :, t], lambda2, M, N, B)\n",
    "\n",
    "        ################################ 更新掩码M ################################\n",
    "        B_mean = torch.mean(Y-X, dim=2).reshape(M, N, 1, T).repeat((1, 1, B, 1))\n",
    "        M_updata[:, :, :, :3][torch.abs(B_mean[:, :, :, :3]) > 0.01] = 0   # M_update=1表示无云，M_update=0表示云\n",
    "        if iters > 5:\n",
    "            M_updata[:, :, :, :3][torch.abs(B_mean[:, :, :, :3]) < 0.01] = 1\n",
    "\n",
    "        ################################ 进行指标评估 ################################\n",
    "        # mse = torch.sum((X - Clean) ** 2)\n",
    "        psnr = []\n",
    "        for t in range(3):\n",
    "            psnr_t = 0\n",
    "            for b in range(B):\n",
    "                psnr_t += compare_psnr(X[:, :, b, t].detach().cpu().numpy(), Clean[:, :, b, t].detach().cpu().numpy(), data_range=1)\n",
    "            psnr.append(psnr_t / B)\n",
    "        ssim = []\n",
    "        for t in range(3):\n",
    "            ssim_b = 0\n",
    "            for b in range(B):\n",
    "                ssim_b += compare_ssim(X[:, :, b, t].detach().cpu().numpy(), Clean[:, :, b, t].detach().cpu().numpy())\n",
    "            ssim.append(ssim_b / B)\n",
    "        # print(\"The %03dth iters, the %03dth epoch, loss: %.5f, mse: %.5f, psnr: %.5f, ssim: %.5f\" % (\n",
    "        #     iters, epoch, loss.item(), mse, psnr, ssim))\n",
    "\n",
    "        image_Clean = Clean.cpu().numpy()\n",
    "        image_Y = Y.cpu().numpy()\n",
    "        image_X = X.cpu().detach().numpy()\n",
    "        image_C = C.cpu().numpy()\n",
    "        image_M = M_updata.cpu().numpy()\n",
    "        plt.figure(figsize=(20, 20))\n",
    "        for i in range(6):\n",
    "            plt.subplot(6, 6, 1 + i)\n",
    "            plt.title(\"Clean\")\n",
    "            plt.imshow(image_Clean[:, :, [4, 2, 0], i]*5)\n",
    "            plt.axis('off')\n",
    "\n",
    "            plt.subplot(6, 6, 7 + i)\n",
    "            plt.title(\"X\")\n",
    "            plt.imshow(image_X[:, :, [4, 2, 0], i]*5)\n",
    "            plt.axis('off')\n",
    "\n",
    "            plt.subplot(6, 6, 13 + i)\n",
    "            plt.title(\"Y\")\n",
    "            plt.imshow(image_Y[:, :, [4, 2, 0], i]*5)\n",
    "            plt.axis('off')\n",
    "\n",
    "            plt.subplot(6, 6, 19 + i)\n",
    "            plt.title(\"Y-X\")\n",
    "            plt.imshow(image_Y[:, :, [4, 2, 0], i]*5 - image_X[:, :, [4, 2, 0], i]*5)\n",
    "            plt.axis('off')\n",
    "\n",
    "            plt.subplot(6, 6, 25 + i)\n",
    "            plt.title(\"C\")\n",
    "            plt.imshow(image_C[:, :, 0, i]*5, cmap='gray')\n",
    "            plt.axis('off')\n",
    "\n",
    "            plt.subplot(6, 6, 31 + i)\n",
    "            plt.title(\"M_update\")\n",
    "            plt.imshow(image_M[:, :, 0, i], cmap='gray')\n",
    "            plt.axis('off')\n",
    "        psnr1, psnr2, psnr3 = psnr\n",
    "        ssim1, ssim2, ssim3 = ssim\n",
    "        result_path = \"%s/iter[%03d, %03d]-pnsr[%.3f, %.3f, %.3f]-ssim[%.3f, %.3f, %.3f].png\" % (\n",
    "            log_dir, iters, epoch, psnr1, psnr2, psnr3, ssim1, ssim2, ssim3)\n",
    "        plt.savefig(result_path)\n",
    "        plt.clf()\n",
    "        plt.figure(figsize=(30, 60))\n",
    "        plt.subplot(6, 1, 1)\n",
    "        plt.title(\"total loss\")\n",
    "        plt.plot([i for i in range(len(loss_history[50:]))], loss_history[50:])\n",
    "\n",
    "        plt.subplot(6, 1, 2)\n",
    "        plt.title(\"loss1\")\n",
    "        plt.plot([i for i in range(len(loss1_history[50:]))], loss1_history[50:])\n",
    "\n",
    "        plt.subplot(6, 1, 3)\n",
    "        plt.title(\"loss2\")\n",
    "        plt.plot([i for i in range(len(loss2_history[50:]))], loss2_history[50:])\n",
    "\n",
    "        plt.subplot(6, 1, 4)\n",
    "        plt.title(\"total loss\")\n",
    "        plt.plot([i for i in range(len(loss_history))], loss_history)\n",
    "\n",
    "        plt.subplot(6, 1, 5)\n",
    "        plt.title(\"loss1\")\n",
    "        plt.plot([i for i in range(len(loss1_history))], loss1_history)\n",
    "\n",
    "        plt.subplot(6, 1, 6)\n",
    "        plt.title(\"loss2\")\n",
    "        plt.plot([i for i in range(len(loss2_history))], loss2_history)\n",
    "\n",
    "        loss_path = \"%s/iter[%03d, %03d]-LR[%f]-rate[%.3f]-s0[%.3f]-rho[%.3f]-loss[%.3f].png\" % (\n",
    "            log_dir, iters, epoch, LR, rate, s0, rho, loss.item())\n",
    "        plt.savefig(loss_path)\n",
    "        plt.clf()\n",
    "\n",
    "        plt.close()\n",
    "    # decrease = True\n",
    "    # up = False\n"
   ]
  },
  {
   "cell_type": "code",
   "execution_count": null,
   "metadata": {},
   "outputs": [],
   "source": [
    "import torch\n",
    "a = torch.ones((10, 10, 10))\n",
    "# a[:,:5,:][a[:, :5, :] == 10] = 1\n",
    "a[0, 1, 0]\n",
    "index = torch.where(a[:, :5, :] == 10, a[:, :5, :], a[:, :5, :]-1)\n",
    "index[0, 0, 0]\n"
   ]
  },
  {
   "cell_type": "code",
   "execution_count": null,
   "metadata": {},
   "outputs": [],
   "source": [
    "_, a, _ = torch.linalg.svd(X.reshape(M*N, B*T), full_matrices=False)  # B*T, M*N\n",
    "a"
   ]
  }
 ],
 "metadata": {
  "kernelspec": {
   "display_name": "Python 3.9.13 ('deep-todo')",
   "language": "python",
   "name": "python3"
  },
  "language_info": {
   "codemirror_mode": {
    "name": "ipython",
    "version": 3
   },
   "file_extension": ".py",
   "mimetype": "text/x-python",
   "name": "python",
   "nbconvert_exporter": "python",
   "pygments_lexer": "ipython3",
   "version": "3.9.13"
  },
  "orig_nbformat": 4,
  "vscode": {
   "interpreter": {
    "hash": "8e95cce7115af6d5c4f61b39ba0e9b0b918610ad54a2ec079c8fe6ce2b889e3d"
   }
  }
 },
 "nbformat": 4,
 "nbformat_minor": 2
}
